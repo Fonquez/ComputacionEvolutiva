{
  "nbformat": 4,
  "nbformat_minor": 0,
  "metadata": {
    "colab": {
      "name": "FonsecaFrancisco_EstrategiasEvolutivas.ipynb",
      "provenance": [],
      "collapsed_sections": []
    },
    "kernelspec": {
      "name": "python3",
      "display_name": "Python 3"
    },
    "language_info": {
      "name": "python"
    }
  },
  "cells": [
    {
      "cell_type": "code",
      "metadata": {
        "id": "rughYpZft8Z6"
      },
      "source": [
        "#Paqueterias necesarias para la realizacion de todo el códigatzo\n",
        "import numpy as np\n",
        "import math\n",
        "from copy import copy\n",
        "import random\n",
        "import statistics\n",
        "from random import randrange\n",
        "import pandas as pd"
      ],
      "execution_count": 1,
      "outputs": []
    },
    {
      "cell_type": "markdown",
      "metadata": {
        "id": "ne3g22b7rh6n"
      },
      "source": [
        "En esta práctica no se muestra un ejemplo de Entrada, como en las prácticas anteriores, entonces no puse el lector de txt y organizador de entradas.\n",
        "Todos los 'inputs' fueron puestos manualmente"
      ]
    },
    {
      "cell_type": "markdown",
      "metadata": {
        "id": "9RschonVQ_FU"
      },
      "source": [
        "#Función de Akley"
      ]
    },
    {
      "cell_type": "code",
      "metadata": {
        "id": "b4_ksUkIQ6ON"
      },
      "source": [
        "def f(x):\n",
        "  n = len(x)\n",
        "\n",
        "  term_one = -20*math.exp(-0.2*math.sqrt((1/n)*sum(x_i**2 for x_i in x)))\n",
        "  term_two = -math.exp((1/n)*sum(math.cos(2*math.pi*x_i) for x_i in x))\n",
        "\n",
        "  return term_one + term_two + 20 + math.e"
      ],
      "execution_count": 2,
      "outputs": []
    },
    {
      "cell_type": "code",
      "metadata": {
        "colab": {
          "base_uri": "https://localhost:8080/"
        },
        "id": "PcYJuptPRHK0",
        "outputId": "7f427db9-a609-478a-e279-662a6fbe77c0"
      },
      "source": [
        "caliz = f([0,0]); caliz #Prácticamente es cero usando su mínimo global, entonces está bien hecho B)"
      ],
      "execution_count": 3,
      "outputs": [
        {
          "output_type": "execute_result",
          "data": {
            "text/plain": [
              "4.440892098500626e-16"
            ]
          },
          "metadata": {},
          "execution_count": 3
        }
      ]
    },
    {
      "cell_type": "markdown",
      "metadata": {
        "id": "kDcQPdmnT1kl"
      },
      "source": [
        "#Algoritmo 4: (1 + 1)-EE\n",
        "\n"
      ]
    },
    {
      "cell_type": "markdown",
      "metadata": {
        "id": "Hz-iS-kSRcxM"
      },
      "source": [
        "#Población inicial"
      ]
    },
    {
      "cell_type": "code",
      "metadata": {
        "id": "_-Roc-ZzReYd"
      },
      "source": [
        "def pob_ini(var):\n",
        "  var_dec = np.random.uniform(-30,30,var)\n",
        "  tam_paso = np.random.uniform(0,1,1)\n",
        "  p = np.concatenate((var_dec, tam_paso), axis = 0)\n",
        "  \n",
        "  p = [p[0:-1], p[-1], f(var_dec)]\n",
        "\n",
        "  return p"
      ],
      "execution_count": 4,
      "outputs": []
    },
    {
      "cell_type": "code",
      "metadata": {
        "colab": {
          "base_uri": "https://localhost:8080/"
        },
        "id": "cVi5ZHsnSLzv",
        "outputId": "9b4462aa-acd7-47e6-e12c-3f6dbb3cd2dc"
      },
      "source": [
        "A = pob_ini(2); A"
      ],
      "execution_count": 5,
      "outputs": [
        {
          "output_type": "execute_result",
          "data": {
            "text/plain": [
              "[array([-18.76224242,  28.83390196]), 0.4696429488838946, 21.227661627013738]"
            ]
          },
          "metadata": {},
          "execution_count": 5
        }
      ]
    },
    {
      "cell_type": "markdown",
      "metadata": {
        "id": "nRGeoXHBZxQz"
      },
      "source": [
        "#Mutación"
      ]
    },
    {
      "cell_type": "code",
      "metadata": {
        "id": "km1k71SGZydj"
      },
      "source": [
        "def mutacion(ini, var):\n",
        "  sigma_mut = ini[1]\n",
        "\n",
        "  for s in range(var):\n",
        "    ini[0][s] += sigma_mut*np.random.normal(0,1)\n",
        "\n",
        "    if ini[0][s] < -30:\n",
        "      ini[0][s] = -30\n",
        "    elif ini[0][s] > 30:\n",
        "      ini[0][s] = 30\n",
        "\n",
        "  return [ini[0], sigma_mut, f(ini[0][:var])]"
      ],
      "execution_count": 6,
      "outputs": []
    },
    {
      "cell_type": "code",
      "metadata": {
        "colab": {
          "base_uri": "https://localhost:8080/"
        },
        "id": "4t6h7aEBesM0",
        "outputId": "efea3a5f-e034-4608-e1f3-3cf0a18e4307"
      },
      "source": [
        "individuo = pob_ini(2) #Tomando al primer individuo para realizar la prueba\n",
        "print(individuo)\n",
        "cria = mutacion(individuo, 2); cria #Sí jaló, SIU "
      ],
      "execution_count": 7,
      "outputs": [
        {
          "output_type": "stream",
          "text": [
            "[array([-22.61700128,  -8.24081389]), 0.33352136040069125, 21.3433048413276]\n"
          ],
          "name": "stdout"
        },
        {
          "output_type": "execute_result",
          "data": {
            "text/plain": [
              "[array([-22.19449304,  -7.74848567]), 0.33352136040069125, 20.817811834110657]"
            ]
          },
          "metadata": {},
          "execution_count": 7
        }
      ]
    },
    {
      "cell_type": "markdown",
      "metadata": {
        "id": "j4MAzDkzij1i"
      },
      "source": [
        "#Juntar todo el chou"
      ]
    },
    {
      "cell_type": "code",
      "metadata": {
        "id": "GFA1WqnNjNx7"
      },
      "source": [
        "c = 0.817 #La c ya está definida"
      ],
      "execution_count": 8,
      "outputs": []
    },
    {
      "cell_type": "code",
      "metadata": {
        "id": "IhD4G61IieKi"
      },
      "source": [
        "def umasu_EE(var, c, gens, r):\n",
        "  prime_sol = pob_ini(var)\n",
        "  sigma = prime_sol[1]\n",
        "  #print(prime_sol, sigma, prime_sol[2])\n",
        "  wen_gen = 0\n",
        "\n",
        "  for i in range(gens):\n",
        "    mut_sol = mutacion(prime_sol.copy(),var)\n",
        "\n",
        "    if mut_sol[2] < prime_sol[2]:\n",
        "      prime_sol = mut_sol\n",
        "      #print(prime_sol, i)\n",
        "      wen_gen += 1\n",
        "\n",
        "    if i%r == 0:\n",
        "      porc_wena = wen_gen/r\n",
        "      if porc_wena > 1/5:\n",
        "          sigma /= c\n",
        "          prime_sol[1] = sigma\n",
        "      elif porc_wena < 1/5:\n",
        "          sigma *= c\n",
        "          prime_sol[1] = sigma\n",
        "      wen_gen = 0\n",
        "\n",
        "\n",
        "  return prime_sol"
      ],
      "execution_count": 9,
      "outputs": []
    },
    {
      "cell_type": "code",
      "metadata": {
        "colab": {
          "base_uri": "https://localhost:8080/"
        },
        "id": "81i9Fg6JlHBk",
        "outputId": "b2efaddb-5759-4d69-eeb6-54df022af665"
      },
      "source": [
        "umasu_EE(2,c,1000,100)"
      ],
      "execution_count": 10,
      "outputs": [
        {
          "output_type": "execute_result",
          "data": {
            "text/plain": [
              "[array([-6.09209662,  7.72907207]), 0.08161418011169955, 14.089088807367402]"
            ]
          },
          "metadata": {},
          "execution_count": 10
        }
      ]
    },
    {
      "cell_type": "markdown",
      "metadata": {
        "id": "60Y-eBAQPo-g"
      },
      "source": [
        "#Algoritmo 5: (μ,λ)-EE"
      ]
    },
    {
      "cell_type": "code",
      "metadata": {
        "id": "ZQS4Yz6oP6vn"
      },
      "source": [
        "def pob_ini_(pob, var):\n",
        "  gfecitos = []\n",
        "  for i in range(pob):\n",
        "    var_dec = np.random.uniform(-30,30,var)\n",
        "    tam_paso = np.random.uniform(0,1,1)\n",
        "    p = np.concatenate((var_dec, tam_paso), axis = 0)\n",
        "    p = [p[0:-1], p[-1], f(var_dec)]\n",
        "    gfecitos.append(p)\n",
        "\n",
        "  return gfecitos"
      ],
      "execution_count": 11,
      "outputs": []
    },
    {
      "cell_type": "code",
      "metadata": {
        "colab": {
          "base_uri": "https://localhost:8080/"
        },
        "id": "TEtTE3U_QoXq",
        "outputId": "b5e48ad8-0af9-4633-c78b-93f97d2ac500"
      },
      "source": [
        "caliz = pob_ini_(13,2); caliz"
      ],
      "execution_count": 12,
      "outputs": [
        {
          "output_type": "execute_result",
          "data": {
            "text/plain": [
              "[[array([-27.71379991, -20.3663871 ]),\n",
              "  0.12522214353852035,\n",
              "  21.924104026681174],\n",
              " [array([-22.57784624,  23.85779952]), 0.6010721406448438, 21.646316462620522],\n",
              " [array([ 1.45027156, -0.04087843]), 0.8539981484467559, 5.420444210919818],\n",
              " [array([-2.40552574,  6.32800818]), 0.7497844717446073, 14.518319194029548],\n",
              " [array([  7.68289223, -19.90119107]), 0.8482728523575984, 20.515301783789727],\n",
              " [array([-16.14893912, -12.59727725]), 0.7626212907720854, 20.720691286405316],\n",
              " [array([6.68394189, 2.34178077]), 0.5810263148421765, 14.750016562542227],\n",
              " [array([ -1.19008194, -11.28966844]), 0.12199268627218307, 17.63992997842799],\n",
              " [array([-13.98357059,  14.23057365]), 0.26712467009888996, 19.78042357814159],\n",
              " [array([-24.64757909, -19.75349714]), 0.34801138724258884, 21.73965434353681],\n",
              " [array([-23.70420055,   6.65650755]), 0.7728683075716991, 21.44564029073315],\n",
              " [array([-17.19349687, -20.37347025]), 0.4462754952614345, 21.418963705700644],\n",
              " [array([-14.40161396,  25.98065587]),\n",
              "  0.46623434208442316,\n",
              "  21.325746921714636]]"
            ]
          },
          "metadata": {},
          "execution_count": 12
        }
      ]
    },
    {
      "cell_type": "code",
      "metadata": {
        "id": "jGNZbTlOVMDZ"
      },
      "source": [
        "def pareja(pob):\n",
        "  elegidos = random.choices(pob,k=2)\n",
        "\n",
        "  return elegidos"
      ],
      "execution_count": 13,
      "outputs": []
    },
    {
      "cell_type": "code",
      "metadata": {
        "colab": {
          "base_uri": "https://localhost:8080/"
        },
        "id": "MM6dzLpQVrZx",
        "outputId": "5a88230f-1ca5-4f0a-960f-866a6aedc1fa"
      },
      "source": [
        "papas = pareja(caliz); papas"
      ],
      "execution_count": 14,
      "outputs": [
        {
          "output_type": "execute_result",
          "data": {
            "text/plain": [
              "[[array([-17.19349687, -20.37347025]), 0.4462754952614345, 21.418963705700644],\n",
              " [array([ -1.19008194, -11.28966844]), 0.12199268627218307, 17.63992997842799]]"
            ]
          },
          "metadata": {},
          "execution_count": 14
        }
      ]
    },
    {
      "cell_type": "code",
      "metadata": {
        "id": "4Lb-aYqdWwkz"
      },
      "source": [
        "def crias(padres, var):\n",
        "    cria = []\n",
        "    sigma_cria = 0\n",
        "\n",
        "    for i in range(var):\n",
        "        if np.random.uniform() < 0.5:\n",
        "            cria.append(padres[0][0][i])\n",
        "        else:\n",
        "            cria.append(padres[1][0][i])\n",
        "\n",
        "    if np.random.uniform() < 0.5:\n",
        "        sigma = padres[0][1]\n",
        "    else:\n",
        "        sigma = padres[1][1]\n",
        "\n",
        "    return [np.array(cria), sigma] #Falta la mutación para poder calcular su f(x)"
      ],
      "execution_count": 15,
      "outputs": []
    },
    {
      "cell_type": "code",
      "metadata": {
        "colab": {
          "base_uri": "https://localhost:8080/"
        },
        "id": "u-HZOEc_YJcR",
        "outputId": "6f90c1cc-1db2-4608-eb26-514ce05267f1"
      },
      "source": [
        "comb = crias(papas, 2); comb"
      ],
      "execution_count": 16,
      "outputs": [
        {
          "output_type": "execute_result",
          "data": {
            "text/plain": [
              "[array([-17.19349687, -11.28966844]), 0.4462754952614345]"
            ]
          },
          "metadata": {},
          "execution_count": 16
        }
      ]
    },
    {
      "cell_type": "code",
      "metadata": {
        "colab": {
          "base_uri": "https://localhost:8080/"
        },
        "id": "OaT9KtmwfHqw",
        "outputId": "d51304f6-aee3-4915-b02a-2e51f005b3c5"
      },
      "source": [
        "comb[0]"
      ],
      "execution_count": 17,
      "outputs": [
        {
          "output_type": "execute_result",
          "data": {
            "text/plain": [
              "array([-17.19349687, -11.28966844])"
            ]
          },
          "metadata": {},
          "execution_count": 17
        }
      ]
    },
    {
      "cell_type": "code",
      "metadata": {
        "id": "HzMLoeXTaXvK"
      },
      "source": [
        "def mutacion_(cria,var,epsilon,tau=None):\n",
        "  if tau == None: \n",
        "    tau = 1/math.sqrt(2)\n",
        "  sigma_mut = cria[1]*(math.e**(tau*np.random.normal()))\n",
        "\n",
        "  if sigma_mut < epsilon:\n",
        "      sigma_mut = epsilon\n",
        "\n",
        "  for s in range(var):\n",
        "    cria[0][s] += sigma_mut*np.random.normal()\n",
        "\n",
        "    if cria[0][s] < -30:\n",
        "      cria[0][s] = -30\n",
        "    elif cria[0][s] > 30:\n",
        "      cria[0][s] = 30\n",
        "\n",
        "  return [cria[0], sigma_mut, f(cria[0][:var])]"
      ],
      "execution_count": 18,
      "outputs": []
    },
    {
      "cell_type": "code",
      "metadata": {
        "colab": {
          "base_uri": "https://localhost:8080/"
        },
        "id": "JQgonJzRazMV",
        "outputId": "26c26794-65c0-4d43-d168-9158c1e4375e"
      },
      "source": [
        "ora_si = mutacion_(comb,2,0.001); ora_si"
      ],
      "execution_count": 19,
      "outputs": [
        {
          "output_type": "execute_result",
          "data": {
            "text/plain": [
              "[array([-16.64351149, -11.8434853 ]), 1.386820227201422, 20.63798776566361]"
            ]
          },
          "metadata": {},
          "execution_count": 19
        }
      ]
    },
    {
      "cell_type": "code",
      "metadata": {
        "id": "8jZVd_GYgov2"
      },
      "source": [
        "def mucomalambda_EE(var,gens,mu,lam,epsilon,tau=None):\n",
        "  papas = pob_ini_(mu,var)\n",
        "  \n",
        "  if lam < mu:\n",
        "    lam = mu\n",
        "  \n",
        "  for i in range(gens):\n",
        "    hijs = []   \n",
        "    for ni in range(lam):\n",
        "        gfecitos = pareja(papas)\n",
        "\n",
        "        cria = crias(gfecitos,var)\n",
        "        cria = mutacion_(cria,var,epsilon)\n",
        "    \n",
        "        hijs.append(cria)\n",
        "    \n",
        "    hijs = sorted(hijs, key = lambda x:x[-1])\n",
        "\n",
        "    papas = hijs[:mu].copy()\n",
        "  manda_mas = papas[0]\n",
        "  \n",
        "  return manda_mas"
      ],
      "execution_count": 20,
      "outputs": []
    },
    {
      "cell_type": "code",
      "metadata": {
        "colab": {
          "base_uri": "https://localhost:8080/"
        },
        "id": "lj6TGRhbkO-Q",
        "outputId": "d9af72f9-003d-4cc9-d9bb-1698948f7891"
      },
      "source": [
        "mucomalambda_EE(2,100,100,200,0.001)"
      ],
      "execution_count": 21,
      "outputs": [
        {
          "output_type": "execute_result",
          "data": {
            "text/plain": [
              "[array([5.80219652e-05, 5.83979829e-05]), 0.001, 0.00023302156767401883]"
            ]
          },
          "metadata": {},
          "execution_count": 21
        }
      ]
    },
    {
      "cell_type": "markdown",
      "metadata": {
        "id": "Vjd0JSN2nnXU"
      },
      "source": [
        "#Algoritmo propuesto: (μ+λ)-EE\n",
        "\n",
        "Decidí utilizar este algoritmo porque asegura que cada generación la aptitud se mantiene o mejora, gracias a que los padres también son tomados en cuenta. A comparación de (μ,λ)-EE donde es posible empeorar la aptitud la siguiente generación debido a que se depende completamente de las nuevas crías, sin importar si estas se consideran menos aptas"
      ]
    },
    {
      "cell_type": "code",
      "metadata": {
        "id": "iUe9grIWpBaH"
      },
      "source": [
        "def mumaslambda_EE(var,gens,mu,lam,epsilon,tau=None):\n",
        "  papas = pob_ini_(mu,var)\n",
        "  \n",
        "  if lam < mu:\n",
        "    lam = mu\n",
        "  \n",
        "  for i in range(gens):\n",
        "    hijs = papas  #Modificación para que los padres también sean tomados en cuenta\n",
        "    for ni in range(lam):\n",
        "        gfecitos = pareja(papas)\n",
        "\n",
        "        cria = crias(gfecitos,var)\n",
        "        cria = mutacion_(cria,var,epsilon)\n",
        "    \n",
        "        hijs.append(cria)\n",
        "    \n",
        "    hijs = sorted(hijs, key = lambda x:x[-1])\n",
        "\n",
        "    papas = hijs[:mu].copy()\n",
        "  manda_mas = papas[0]\n",
        "  \n",
        "  return manda_mas"
      ],
      "execution_count": 22,
      "outputs": []
    },
    {
      "cell_type": "code",
      "metadata": {
        "colab": {
          "base_uri": "https://localhost:8080/"
        },
        "id": "r4avmiCupS5f",
        "outputId": "a3a9432c-9451-4a00-eca5-eeb79ec526a5"
      },
      "source": [
        "mumaslambda_EE(2,100,100,200,0.001)"
      ],
      "execution_count": 23,
      "outputs": [
        {
          "output_type": "execute_result",
          "data": {
            "text/plain": [
              "[array([-1.10434273e-05, -9.98933348e-06]), 0.001, 4.212422089056034e-05]"
            ]
          },
          "metadata": {},
          "execution_count": 23
        }
      ]
    },
    {
      "cell_type": "markdown",
      "metadata": {
        "id": "XzdJ5vzHsHlf"
      },
      "source": [
        "#Realización de las M ejecuciones (1 + 1) -EE\n",
        "\n",
        "Me disculpo si son inconsistentes los comentarios, hice rechicken de la práctica pasada, solo le realicé cambios minimos xd"
      ]
    },
    {
      "cell_type": "code",
      "metadata": {
        "id": "P9ugRyj9uREP"
      },
      "source": [
        "#Mejor solución encontrada en las M ejecuciones\n",
        "def mejor_sol_M_umasu_EE(M,var,gens,c,r):\n",
        "  aiuda = [umasu_EE(var, c, gens, r) for _ in range(M)]\n",
        "\n",
        "  #Dejar solo las variables de decisión, sin su tamaño de paso. Junto con su respectiva función Ackley\n",
        "  sol_enc = 0\n",
        "  valor = 0\n",
        "  bests = []\n",
        "\n",
        "  for i in range(len(aiuda)):\n",
        "    sol_enc = aiuda[i][0][0:var]\n",
        "    valor = aiuda[i][2]\n",
        "    p = [sol_enc, valor]\n",
        "    bests.append(p)\n",
        "\n",
        "  \n",
        "  #Mejor y 'pior' solución\n",
        "  best = [] #Lista donde voy a guardar la mejor solución\n",
        "  worst = [] #Lista donde voy a guardar la peor solución\n",
        "  costes = [] #Lista donde voy a guardar los costos\n",
        "  for b in range(len(bests)): #Correr esto M veces\n",
        "    costes.append(bests[b][1]) #Meter en la lista de costes, el valor de la permutación en la posición b\n",
        "    #print(costes)\n",
        "  diccio = { i : costes[i] for i in range(0, len(costes) ) } #Diccionario de los valores\n",
        "  #print(diccio)\n",
        "  mejor_permu = min(diccio, key=diccio.get) #Obtener la llave de la permutación con menor valor\n",
        "  pior_permu = max(diccio, key=diccio.get) #Obtener la llave de la permutación con mayor valor\n",
        "  best.append(bests[mejor_permu]) #Agregar la mejor permutación con su valor\n",
        "  worst.append(bests[pior_permu]) #Agregar la pior permutación con su valor\n",
        "\n",
        "  #Mediana\n",
        "  elementos = [] #Lista donde se va a enumerar los números correspondiente a la longitud de M\n",
        "  mediana_permu = [] #Número o lista, dependiendo si es par o impar M\n",
        "  median = [] #Lista donde voy a guardar la o las mediana(s)\n",
        "  orden = sorted(diccio.items(), key=lambda x:x[1]) #Ordenar con respecto a los valores del diccionario\n",
        "  #print(orden)\n",
        "\n",
        "  for me in range(len(orden)): #Correr esto M veces\n",
        "    elementos.append(me) #Agregar de manera ascendente número de 0 a M\n",
        "\n",
        "  if len(elementos)%2 != 0: #Si es impar\n",
        "    per_med = np.median(np.array(elementos)) #Sacar la mediana\n",
        "    per_med = int(per_med) #Volverlo entero\n",
        "    mediana_permu = orden[per_med][0] #Obtener la llave que está en la posicón [per_med], o sea, la mediana\n",
        "    median.append(bests[mediana_permu]) #Agregar a la lista de la mediana la permutación, su valor y su peso\n",
        "    \n",
        "    #mediana = median[0][1] #Meter la función objetivo de la mediana para la tabla comparativa\n",
        "  \n",
        "  else: #Si es par\n",
        "    per_med = np.median(np.array(elementos)) #Sacar la mediana\n",
        "    per_med_izq = per_med//1 #Hacer piso. Este número va a corresponder a la mediana en la posición izquierda\n",
        "    per_med_izq = int(per_med_izq) #Convertir a entero\n",
        "    per_med_der = per_med+.5 #Sumarle .5 para que corresponda a la mediana de la posición derecha\n",
        "    per_med_der = int(per_med_der) #Volverlo entero\n",
        "    mediana_permu.append(orden[per_med_izq][0]) #Agregar a la lista la llave que está en la posicón [per_med_izq], o sea, la mediana izquierda\n",
        "    mediana_permu.append(orden[per_med_der][0]) #Hacer lo mismo pero con la mediana derecha\n",
        "    median.append(bests[mediana_permu[0]]) #Agregar a la lista de la mediana la permutación izquierda, su valor y su peso.\n",
        "    median.append(bests[mediana_permu[1]]) #Agregar a la lista de la mediana la permutación derecha, su valor y su peso.\n",
        "    \n",
        "    #mediana = (median[0][1]+median[1][1])/2 #Si es par, saco el promedio para meterlo a la tabla comparativa\n",
        "\n",
        "    #Media\n",
        "  mean_costs = [] #Lista donde voy a guardar los valores de cada permutación obtenida de las ejecuciones.\n",
        "\n",
        "  for mc in range(len(orden)): #Correr esto M veces\n",
        "    mean_costs.append(orden[mc][1]) #Agregar el valor en la posición [mc] a la lista\n",
        "\n",
        "  mean = sum(mean_costs)/len(mean_costs) #Sacar el promedio de los costos\n",
        "\n",
        "\n",
        "  #Desviación estándar\n",
        "  standard_deviation = statistics.stdev(mean_costs) #Desviacíon estándar de los costos de las M permutaciones\n",
        "  \n",
        "\n",
        "  #Comparando si en efecto solo quité los tamaños de paso, sin modificar nada más. También que mean_costs tenga el valor de cada función de Ackley\n",
        "  #return aiuda, bests, mean_costs\n",
        "\n",
        "  #return best[0][1], best\n",
        "  #print(median[0][1], median[1][1], median, mediana)\n",
        "  #print('Mejor solución: ', best,'\\n''Peor solución: ', worst,'\\n''Mediana(s): ', median,'\\n''Media: ', mean, '\\n''Desviación estándar: ', standard_deviation)\n",
        "  \n",
        "  return  ('Mejor solución: ', best, 'Peor solución: ',  worst, 'Mediana(s): ', median,'Media: ', mean,'Desviación estándar: ', standard_deviation)"
      ],
      "execution_count": 24,
      "outputs": []
    },
    {
      "cell_type": "code",
      "metadata": {
        "id": "P7i_SGUcvSzy"
      },
      "source": [
        "M = 21\n",
        "c = 0.817\n",
        "var = 2\n",
        "gens = 1000\n",
        "r = 100"
      ],
      "execution_count": 25,
      "outputs": []
    },
    {
      "cell_type": "markdown",
      "metadata": {
        "id": "9R93gjig9wMi"
      },
      "source": [
        "#Cinco variables"
      ]
    },
    {
      "cell_type": "code",
      "metadata": {
        "colab": {
          "base_uri": "https://localhost:8080/"
        },
        "id": "8vgjD81H9s4M",
        "outputId": "e904c1cb-3ff7-487f-81d1-a241aa0da8ee"
      },
      "source": [
        "var = 5\n",
        "u_cinco = mejor_sol_M_umasu_EE(M,var,gens,c,r); u_cinco\n",
        "#Necesito los valores de las funciones objetivo para pasarlos a las tablas comparativas. Con return fue la única manera que lo conseguí, aunque no me gusta como se regresan los strings"
      ],
      "execution_count": 26,
      "outputs": [
        {
          "output_type": "execute_result",
          "data": {
            "text/plain": [
              "('Mejor solución: ',\n",
              " [[array([ -8.02491756,   2.50253568,   1.96375704,   7.02741974,\n",
              "          -23.09565822]), 16.6405292830419]],\n",
              " 'Peor solución: ',\n",
              " [[array([-27.47833652, -16.96063458,  24.58468978,  12.87378168,\n",
              "           23.62158745]), 19.86046142040925]],\n",
              " 'Mediana(s): ',\n",
              " [[array([ -0.72505635, -27.47885883,  12.47804041, -22.08213135,\n",
              "            3.5714905 ]), 19.251503389151498]],\n",
              " 'Media: ',\n",
              " 18.952849113747543,\n",
              " 'Desviación estándar: ',\n",
              " 0.85805284634053)"
            ]
          },
          "metadata": {},
          "execution_count": 26
        }
      ]
    },
    {
      "cell_type": "code",
      "metadata": {
        "colab": {
          "base_uri": "https://localhost:8080/"
        },
        "id": "U3T5r3nq96HB",
        "outputId": "661565a9-2854-4792-911f-02d9ec58b314"
      },
      "source": [
        "tab_u_cinco = []\n",
        "tab_u_cinco.extend([u_cinco[1][0][1],u_cinco[3][0][1],u_cinco[5][0][1],u_cinco[7],u_cinco[9]]); tab_u_cinco"
      ],
      "execution_count": 27,
      "outputs": [
        {
          "output_type": "execute_result",
          "data": {
            "text/plain": [
              "[16.6405292830419,\n",
              " 19.86046142040925,\n",
              " 19.251503389151498,\n",
              " 18.952849113747543,\n",
              " 0.85805284634053]"
            ]
          },
          "metadata": {},
          "execution_count": 27
        }
      ]
    },
    {
      "cell_type": "markdown",
      "metadata": {
        "id": "F5V_CbIk93gQ"
      },
      "source": [
        "#Diez variables"
      ]
    },
    {
      "cell_type": "code",
      "metadata": {
        "colab": {
          "base_uri": "https://localhost:8080/"
        },
        "id": "DfQr9WoB95zZ",
        "outputId": "bec8e87c-4233-4526-cfaf-37cf40d9ceac"
      },
      "source": [
        "var = 10\n",
        "u_diez = mejor_sol_M_umasu_EE(M,var,gens,c,r); u_diez"
      ],
      "execution_count": 28,
      "outputs": [
        {
          "output_type": "execute_result",
          "data": {
            "text/plain": [
              "('Mejor solución: ',\n",
              " [[array([ -0.37649418, -26.28591931,  -0.39806623, -15.10212404,\n",
              "           -3.073581  ,   1.70490716,  14.38998537, -21.4280996 ,\n",
              "           27.15115692,  -4.39979158]), 19.516452175027798]],\n",
              " 'Peor solución: ',\n",
              " [[array([ 27.94560327, -25.32527452, -21.14774043, -17.56942578,\n",
              "           -8.768491  ,  27.42896842, -25.05158804, -30.        ,\n",
              "          -17.24368654,  19.88395149]), 20.567584877914847]],\n",
              " 'Mediana(s): ',\n",
              " [[array([  1.32150234,  28.64773799, -14.21758115, -25.39209469,\n",
              "          -14.0287826 ,   2.97291502,  24.50018366,  -8.51985899,\n",
              "           -4.26684545,   2.75662826]), 20.056533077213135]],\n",
              " 'Media: ',\n",
              " 20.08529277803858,\n",
              " 'Desviación estándar: ',\n",
              " 0.2890361273287624)"
            ]
          },
          "metadata": {},
          "execution_count": 28
        }
      ]
    },
    {
      "cell_type": "code",
      "metadata": {
        "colab": {
          "base_uri": "https://localhost:8080/"
        },
        "id": "JNDYDv1a96dB",
        "outputId": "b066ebce-0a8d-4cdf-8b0d-8ed19619bad4"
      },
      "source": [
        "tab_u_diez = []\n",
        "tab_u_diez.extend([u_diez[1][0][1],u_diez[3][0][1],u_diez[5][0][1],u_diez[7],u_diez[9]]); tab_u_diez"
      ],
      "execution_count": 29,
      "outputs": [
        {
          "output_type": "execute_result",
          "data": {
            "text/plain": [
              "[19.516452175027798,\n",
              " 20.567584877914847,\n",
              " 20.056533077213135,\n",
              " 20.08529277803858,\n",
              " 0.2890361273287624]"
            ]
          },
          "metadata": {},
          "execution_count": 29
        }
      ]
    },
    {
      "cell_type": "markdown",
      "metadata": {
        "id": "WdpUgAjU3Yt0"
      },
      "source": [
        "#Veinte variables"
      ]
    },
    {
      "cell_type": "code",
      "metadata": {
        "colab": {
          "base_uri": "https://localhost:8080/"
        },
        "id": "V69-NHKv3cN2",
        "outputId": "43c5c096-571c-49bb-f347-6b15224b37a5"
      },
      "source": [
        "#No lo utilizo en la tabla comparativa, entonces no paso los valores de sus funciones objetivo a una lista\n",
        "var = 20\n",
        "mejor_sol_M_umasu_EE(M,var,gens,c,r)"
      ],
      "execution_count": 30,
      "outputs": [
        {
          "output_type": "execute_result",
          "data": {
            "text/plain": [
              "('Mejor solución: ',\n",
              " [[array([ 16.32803904,  12.77414688, -10.19740494,  14.79434359,\n",
              "           -2.89810012,   4.65798258,   8.79647839, -16.21516188,\n",
              "           -6.71585249,  10.82987124,  24.5872046 ,  -6.08511236,\n",
              "          -22.47363474, -28.06364802,  19.88478816,   1.69490045,\n",
              "           16.4325619 ,  21.56894021,  -1.99737529,  -1.19110829]),\n",
              "   19.830684638902934]],\n",
              " 'Peor solución: ',\n",
              " [[array([  1.03552146,  -9.65261918,  25.61885827,  14.6079948 ,\n",
              "           13.97103568, -17.9211839 , -21.65015634, -26.41672627,\n",
              "            1.78642368,  -5.0681557 ,  16.19977284,  -1.25746446,\n",
              "           24.58524789,   0.04566533,  20.77908514, -27.6175477 ,\n",
              "           15.93536336, -27.10086196, -29.29520303, -19.52820318]),\n",
              "   21.09721396717279]],\n",
              " 'Mediana(s): ',\n",
              " [[array([-18.88924166,  28.49890888, -27.48646085,  14.93511214,\n",
              "            7.25822422, -19.72977504,  24.6477235 ,  24.53438702,\n",
              "           -9.38420559,  23.54455903,  12.14492603,  -9.40194241,\n",
              "           -1.3236267 ,  28.11573255,   3.11894227, -10.64134112,\n",
              "          -10.47611833,  21.00227108,  21.77113891,  -1.57894495]),\n",
              "   20.40255562054979]],\n",
              " 'Media: ',\n",
              " 20.417461669736742,\n",
              " 'Desviación estándar: ',\n",
              " 0.30236615432880826)"
            ]
          },
          "metadata": {},
          "execution_count": 30
        }
      ]
    },
    {
      "cell_type": "markdown",
      "metadata": {
        "id": "b5JPqXlqy8Au"
      },
      "source": [
        "#Realización de las M ejecuciones (μ,λ)-EE"
      ]
    },
    {
      "cell_type": "code",
      "metadata": {
        "id": "QBO7d55fy7B7"
      },
      "source": [
        "#Mejor solución encontrada en las M ejecuciones\n",
        "def mejor_sol_M_mucomalambda_EE(M,var,gens,mu,lam,epsilon):\n",
        "  aiuda = [mucomalambda_EE(var,gens,mu,lam,epsilon,tau=None) for _ in range(M)]\n",
        "\n",
        "  #Dejar solo las variables de decisión, sin su tamaño de paso. Junto con su respectiva función Ackley\n",
        "  sol_enc = 0\n",
        "  valor = 0\n",
        "  bests = []\n",
        "\n",
        "  for i in range(len(aiuda)):\n",
        "    sol_enc = aiuda[i][0][0:var]\n",
        "    valor = aiuda[i][2]\n",
        "    p = [sol_enc, valor]\n",
        "    bests.append(p)\n",
        "\n",
        "  \n",
        "  #Mejor y 'pior' solución\n",
        "  best = [] #Lista donde voy a guardar la mejor solución\n",
        "  worst = [] #Lista donde voy a guardar la peor solución\n",
        "  costes = [] #Lista donde voy a guardar los costos\n",
        "  for b in range(len(bests)): #Correr esto M veces\n",
        "    costes.append(bests[b][1]) #Meter en la lista de costes, el valor de la permutación en la posición b\n",
        "    #print(costes)\n",
        "  diccio = { i : costes[i] for i in range(0, len(costes) ) } #Diccionario de los valores\n",
        "  #print(diccio)\n",
        "  mejor_permu = min(diccio, key=diccio.get) #Obtener la llave de la permutación con menor valor\n",
        "  pior_permu = max(diccio, key=diccio.get) #Obtener la llave de la permutación con mayor valor\n",
        "  best.append(bests[mejor_permu]) #Agregar la mejor permutación con su valor\n",
        "  worst.append(bests[pior_permu]) #Agregar la pior permutación con su valor\n",
        "\n",
        "  #Mediana\n",
        "  elementos = [] #Lista donde se va a enumerar los números correspondiente a la longitud de M\n",
        "  mediana_permu = [] #Número o lista, dependiendo si es par o impar M\n",
        "  median = [] #Lista donde voy a guardar la o las mediana(s)\n",
        "  orden = sorted(diccio.items(), key=lambda x:x[1]) #Ordenar con respecto a los valores del diccionario\n",
        "  #print(orden)\n",
        "\n",
        "  for me in range(len(orden)): #Correr esto M veces\n",
        "    elementos.append(me) #Agregar de manera ascendente número de 0 a M\n",
        "\n",
        "  if len(elementos)%2 != 0: #Si es impar\n",
        "    per_med = np.median(np.array(elementos)) #Sacar la mediana\n",
        "    per_med = int(per_med) #Volverlo entero\n",
        "    mediana_permu = orden[per_med][0] #Obtener la llave que está en la posicón [per_med], o sea, la mediana\n",
        "    median.append(bests[mediana_permu]) #Agregar a la lista de la mediana la permutación, su valor y su peso\n",
        "  else: #Si es par\n",
        "    per_med = np.median(np.array(elementos)) #Sacar la mediana\n",
        "    per_med_izq = per_med//1 #Hacer piso. Este número va a corresponder a la mediana en la posición izquierda\n",
        "    per_med_izq = int(per_med_izq) #Convertir a entero\n",
        "    per_med_der = per_med+.5 #Sumarle .5 para que corresponda a la mediana de la posición derecha\n",
        "    per_med_der = int(per_med_der) #Volverlo entero\n",
        "    mediana_permu.append(orden[per_med_izq][0]) #Agregar a la lista la llave que está en la posicón [per_med_izq], o sea, la mediana izquierda\n",
        "    mediana_permu.append(orden[per_med_der][0]) #Hacer lo mismo pero con la mediana derecha\n",
        "    median.append(bests[mediana_permu[0]]) #Agregar a la lista de la mediana la permutación izquierda, su valor y su peso.\n",
        "    median.append(bests[mediana_permu[1]]) #Agregar a la lista de la mediana la permutación derecha, su valor y su peso.\n",
        "\n",
        "    #Media\n",
        "  mean_costs = [] #Lista donde voy a guardar los valores de cada permutación obtenida de las ejecuciones.\n",
        "\n",
        "  for mc in range(len(orden)): #Correr esto M veces\n",
        "    mean_costs.append(orden[mc][1]) #Agregar el valor en la posición [mc] a la lista\n",
        "\n",
        "  mean = sum(mean_costs)/len(mean_costs) #Sacar el promedio de los costos\n",
        "\n",
        "\n",
        "  #Desviación estándar\n",
        "  standard_deviation = statistics.stdev(mean_costs) #Desviacíon estándar de los costos de las M permutaciones\n",
        "  \n",
        "\n",
        "  #Comparando si en efecto solo quité los tamaños de paso, sin modificar nada más. También que mean_costs tenga el valor de cada función de Ackley\n",
        "  #return aiuda, bests, mean_costs\n",
        "\n",
        "\n",
        "  #print('Mejor solución: ', best,'\\n''Peor solución: ', worst,'\\n''Mediana(s): ', median,'\\n''Media: ', mean, '\\n''Desviación estándar: ', standard_deviation)\n",
        "\n",
        "  return  ('Mejor solución: ', best, 'Peor solución: ',  worst, 'Mediana(s): ', median,'Media: ', mean,'Desviación estándar: ', standard_deviation)"
      ],
      "execution_count": 31,
      "outputs": []
    },
    {
      "cell_type": "code",
      "metadata": {
        "id": "m33khxJBzPbR"
      },
      "source": [
        "M = 21\n",
        "var = 2\n",
        "gens = 100\n",
        "mu = 100\n",
        "lam = 300\n",
        "epsilon = 0.001"
      ],
      "execution_count": 32,
      "outputs": []
    },
    {
      "cell_type": "markdown",
      "metadata": {
        "id": "nEQcAMTu1kJf"
      },
      "source": [
        "#Cinco variables"
      ]
    },
    {
      "cell_type": "code",
      "metadata": {
        "colab": {
          "base_uri": "https://localhost:8080/"
        },
        "id": "BhkbPdMS1mAG",
        "outputId": "acc36efa-28b4-4b68-f29b-f30cb258bff2"
      },
      "source": [
        "var = 5\n",
        "coma_cinco = mejor_sol_M_mucomalambda_EE(M,var,gens,mu,lam,epsilon); coma_cinco"
      ],
      "execution_count": 33,
      "outputs": [
        {
          "output_type": "execute_result",
          "data": {
            "text/plain": [
              "('Mejor solución: ',\n",
              " [[array([-0.00018293, -0.00049121,  0.00031702, -0.00011235,  0.00015942]),\n",
              "   0.001154415531669617]],\n",
              " 'Peor solución: ',\n",
              " [[array([ 3.33208137e-04, -4.80839795e-04,  9.15792133e-04,  3.77238032e-05,\n",
              "           7.21190647e-04]), 0.0023521933200467693]],\n",
              " 'Mediana(s): ',\n",
              " [[array([ 3.55899832e-04,  2.51039299e-05,  6.28645807e-04,  3.76682508e-04,\n",
              "          -5.28661485e-04]), 0.0017479722570858947]],\n",
              " 'Media: ',\n",
              " 0.0017735248589436541,\n",
              " 'Desviación estándar: ',\n",
              " 0.00030433673504248504)"
            ]
          },
          "metadata": {},
          "execution_count": 33
        }
      ]
    },
    {
      "cell_type": "code",
      "metadata": {
        "colab": {
          "base_uri": "https://localhost:8080/"
        },
        "id": "Pu-dE4AZC2bC",
        "outputId": "93a6d190-9652-4025-f5ae-7e1746b924be"
      },
      "source": [
        "tab_coma_cinco = []\n",
        "tab_coma_cinco.extend([coma_cinco[1][0][1],coma_cinco[3][0][1],coma_cinco[5][0][1],coma_cinco[7],coma_cinco[9]]); tab_coma_cinco"
      ],
      "execution_count": 34,
      "outputs": [
        {
          "output_type": "execute_result",
          "data": {
            "text/plain": [
              "[0.001154415531669617,\n",
              " 0.0023521933200467693,\n",
              " 0.0017479722570858947,\n",
              " 0.0017735248589436541,\n",
              " 0.00030433673504248504]"
            ]
          },
          "metadata": {},
          "execution_count": 34
        }
      ]
    },
    {
      "cell_type": "markdown",
      "metadata": {
        "id": "VPDTk4CK14Qd"
      },
      "source": [
        "#Diez variables"
      ]
    },
    {
      "cell_type": "code",
      "metadata": {
        "colab": {
          "base_uri": "https://localhost:8080/"
        },
        "id": "wd5K1Mzt16l3",
        "outputId": "69e76d95-8565-4853-b482-02fd9f4291a2"
      },
      "source": [
        "var = 10\n",
        "coma_diez = mejor_sol_M_mucomalambda_EE(M,var,gens,mu,lam,epsilon); coma_diez"
      ],
      "execution_count": 35,
      "outputs": [
        {
          "output_type": "execute_result",
          "data": {
            "text/plain": [
              "('Mejor solución: ',\n",
              " [[array([ 0.00074137, -0.0001409 ,  0.00026884, -0.00092506, -0.00037044,\n",
              "           0.000197  ,  0.00086323,  0.00096996,  0.00025714,  0.0006952 ]),\n",
              "   0.002521681006847576]],\n",
              " 'Peor solución: ',\n",
              " [[array([-3.70329386e-04, -2.25791237e-04,  2.21840319e-04, -1.96824683e-03,\n",
              "           7.48354528e-04, -7.81466889e-04, -1.19011482e-03,  1.80767122e-03,\n",
              "          -9.91211791e-04, -5.25494732e-05]), 0.004244274046442786]],\n",
              " 'Mediana(s): ',\n",
              " [[array([-2.27112441e-04, -1.61302158e-03,  9.93957608e-04, -1.30626966e-04,\n",
              "           4.26566762e-05, -4.87280022e-04,  5.32718667e-04, -1.03571009e-03,\n",
              "           2.56876640e-04, -8.85699742e-04]), 0.0031577960234128177]],\n",
              " 'Media: ',\n",
              " 0.003227574295997272,\n",
              " 'Desviación estándar: ',\n",
              " 0.0004269407360682909)"
            ]
          },
          "metadata": {},
          "execution_count": 35
        }
      ]
    },
    {
      "cell_type": "code",
      "metadata": {
        "colab": {
          "base_uri": "https://localhost:8080/"
        },
        "id": "WIYhP7KQDLLI",
        "outputId": "0fa22915-af7a-424b-d756-d2e636e5575f"
      },
      "source": [
        "tab_coma_diez = []\n",
        "tab_coma_diez.extend([coma_diez[1][0][1],coma_diez[3][0][1],coma_diez[5][0][1],coma_diez[7],coma_diez[9]]); tab_coma_diez"
      ],
      "execution_count": 36,
      "outputs": [
        {
          "output_type": "execute_result",
          "data": {
            "text/plain": [
              "[0.002521681006847576,\n",
              " 0.004244274046442786,\n",
              " 0.0031577960234128177,\n",
              " 0.003227574295997272,\n",
              " 0.0004269407360682909]"
            ]
          },
          "metadata": {},
          "execution_count": 36
        }
      ]
    },
    {
      "cell_type": "markdown",
      "metadata": {
        "id": "_x6vuCuz2Kx3"
      },
      "source": [
        "#Veinte variables"
      ]
    },
    {
      "cell_type": "code",
      "metadata": {
        "colab": {
          "base_uri": "https://localhost:8080/"
        },
        "id": "YSWsC1oH2Nhx",
        "outputId": "9ebf5a80-8b86-4cc6-b90a-d46110ec9193"
      },
      "source": [
        "var = 20\n",
        "mejor_sol_M_mucomalambda_EE(M,var,gens,mu,lam,epsilon)"
      ],
      "execution_count": 37,
      "outputs": [
        {
          "output_type": "execute_result",
          "data": {
            "text/plain": [
              "('Mejor solución: ',\n",
              " [[array([ 8.09985375e-04, -1.30378282e-04,  1.69560652e-03, -7.29592596e-04,\n",
              "           5.29292868e-04, -1.14002423e-03,  4.73119253e-04,  1.10564743e-05,\n",
              "           6.20783784e-04,  7.60754010e-04, -1.55275814e-03, -9.99360120e-04,\n",
              "          -1.37964721e-03, -3.82871807e-05, -3.35356401e-03, -7.90001467e-04,\n",
              "          -9.98050526e-04, -3.29193953e-04, -8.77417706e-05,  2.14260856e-03]),\n",
              "   0.0049565947223624285]],\n",
              " 'Peor solución: ',\n",
              " [[array([ 1.80959476e-03, -1.12674917e-03,  1.14282243e-03,  4.17730745e-05,\n",
              "          -9.57134880e-01,  1.51754561e-03, -9.54878757e-01, -9.56377792e-01,\n",
              "          -1.06714333e-03, -2.49461121e-04, -9.57476200e-01, -9.56005235e-01,\n",
              "           1.25856669e-03, -9.55356519e-01,  9.56163254e-01, -4.47823957e-04,\n",
              "           1.39676768e-03, -1.15220370e-03,  9.57872471e-01,  1.91158516e+00]),\n",
              "   2.81404374431347]],\n",
              " 'Mediana(s): ',\n",
              " [[array([ 3.23287297e-03,  2.42505145e-03, -1.60336433e-03,  8.39348450e-05,\n",
              "           8.48054891e-04,  2.27555370e-03,  1.60394667e-03, -7.49623612e-04,\n",
              "           2.91013716e-04, -8.70446599e-01, -8.73774522e-01, -2.63607734e-04,\n",
              "          -1.03860176e-03,  1.76076568e-03,  1.01850929e-03, -1.44674205e-04,\n",
              "           3.00298428e-04, -4.28342925e-04,  1.17230407e-03, -7.16555096e-04]),\n",
              "   1.1552665696688433]],\n",
              " 'Media: ',\n",
              " 0.9411641130560108,\n",
              " 'Desviación estándar: ',\n",
              " 0.8554140939792834)"
            ]
          },
          "metadata": {},
          "execution_count": 37
        }
      ]
    },
    {
      "cell_type": "markdown",
      "metadata": {
        "id": "xVfCNMC20gql"
      },
      "source": [
        "#Realización de las M ejecuciones (μ+λ)-EE"
      ]
    },
    {
      "cell_type": "code",
      "metadata": {
        "id": "8f8AMb1k0Z6T"
      },
      "source": [
        "#Mejor solución encontrada en las M ejecuciones\n",
        "def mejor_sol_M_mumaslambda_EE(M,var,gens,mu,lam,epsilon):\n",
        "  aiuda = [mumaslambda_EE(var,gens,mu,lam,epsilon,tau=None) for _ in range(M)]\n",
        "\n",
        "  #Dejar solo las variables de decisión, sin su tamaño de paso. Junto con su respectiva función Ackley\n",
        "  sol_enc = 0\n",
        "  valor = 0\n",
        "  bests = []\n",
        "\n",
        "  for i in range(len(aiuda)):\n",
        "    sol_enc = aiuda[i][0][0:var]\n",
        "    valor = aiuda[i][2]\n",
        "    p = [sol_enc, valor]\n",
        "    bests.append(p)\n",
        "\n",
        "  \n",
        "  #Mejor y 'pior' solución\n",
        "  best = [] #Lista donde voy a guardar la mejor solución\n",
        "  worst = [] #Lista donde voy a guardar la peor solución\n",
        "  costes = [] #Lista donde voy a guardar los costos\n",
        "  for b in range(len(bests)): #Correr esto M veces\n",
        "    costes.append(bests[b][1]) #Meter en la lista de costes, el valor de la permutación en la posición b\n",
        "    #print(costes)\n",
        "  diccio = { i : costes[i] for i in range(0, len(costes) ) } #Diccionario de los valores\n",
        "  #print(diccio)\n",
        "  mejor_permu = min(diccio, key=diccio.get) #Obtener la llave de la permutación con menor valor\n",
        "  pior_permu = max(diccio, key=diccio.get) #Obtener la llave de la permutación con mayor valor\n",
        "  best.append(bests[mejor_permu]) #Agregar la mejor permutación con su valor\n",
        "  worst.append(bests[pior_permu]) #Agregar la pior permutación con su valor\n",
        "\n",
        "  #Mediana\n",
        "  elementos = [] #Lista donde se va a enumerar los números correspondiente a la longitud de M\n",
        "  mediana_permu = [] #Número o lista, dependiendo si es par o impar M\n",
        "  median = [] #Lista donde voy a guardar la o las mediana(s)\n",
        "  orden = sorted(diccio.items(), key=lambda x:x[1]) #Ordenar con respecto a los valores del diccionario\n",
        "  #print(orden)\n",
        "\n",
        "  for me in range(len(orden)): #Correr esto M veces\n",
        "    elementos.append(me) #Agregar de manera ascendente número de 0 a M\n",
        "\n",
        "  if len(elementos)%2 != 0: #Si es impar\n",
        "    per_med = np.median(np.array(elementos)) #Sacar la mediana\n",
        "    per_med = int(per_med) #Volverlo entero\n",
        "    mediana_permu = orden[per_med][0] #Obtener la llave que está en la posicón [per_med], o sea, la mediana\n",
        "    median.append(bests[mediana_permu]) #Agregar a la lista de la mediana la permutación, su valor y su peso\n",
        "  else: #Si es par\n",
        "    per_med = np.median(np.array(elementos)) #Sacar la mediana\n",
        "    per_med_izq = per_med//1 #Hacer piso. Este número va a corresponder a la mediana en la posición izquierda\n",
        "    per_med_izq = int(per_med_izq) #Convertir a entero\n",
        "    per_med_der = per_med+.5 #Sumarle .5 para que corresponda a la mediana de la posición derecha\n",
        "    per_med_der = int(per_med_der) #Volverlo entero\n",
        "    mediana_permu.append(orden[per_med_izq][0]) #Agregar a la lista la llave que está en la posicón [per_med_izq], o sea, la mediana izquierda\n",
        "    mediana_permu.append(orden[per_med_der][0]) #Hacer lo mismo pero con la mediana derecha\n",
        "    median.append(bests[mediana_permu[0]]) #Agregar a la lista de la mediana la permutación izquierda, su valor y su peso.\n",
        "    median.append(bests[mediana_permu[1]]) #Agregar a la lista de la mediana la permutación derecha, su valor y su peso.\n",
        "\n",
        "    #Media\n",
        "  mean_costs = [] #Lista donde voy a guardar los valores de cada permutación obtenida de las ejecuciones.\n",
        "\n",
        "  for mc in range(len(orden)): #Correr esto M veces\n",
        "    mean_costs.append(orden[mc][1]) #Agregar el valor en la posición [mc] a la lista\n",
        "\n",
        "  mean = sum(mean_costs)/len(mean_costs) #Sacar el promedio de los costos\n",
        "\n",
        "\n",
        "  #Desviación estándar\n",
        "  standard_deviation = statistics.stdev(mean_costs) #Desviacíon estándar de los costos de las M permutaciones\n",
        "  \n",
        "\n",
        "  #Comparando si en efecto solo quité los tamaños de paso, sin modificar nada más. También que mean_costs tenga el valor de cada función de Ackley\n",
        "  #return aiuda, bests, mean_costs\n",
        "\n",
        "\n",
        "  #print('Mejor solución: ', best,'\\n''Peor solución: ', worst,'\\n''Mediana(s): ', median,'\\n''Media: ', mean, '\\n''Desviación estándar: ', standard_deviation)\n",
        "\n",
        "  return  ('Mejor solución: ', best, 'Peor solución: ',  worst, 'Mediana(s): ', median,'Media: ', mean,'Desviación estándar: ', standard_deviation)"
      ],
      "execution_count": 38,
      "outputs": []
    },
    {
      "cell_type": "code",
      "metadata": {
        "id": "hVkE5pYl0mXi"
      },
      "source": [
        "M = 21\n",
        "var = 2\n",
        "gens = 100\n",
        "mu = 100\n",
        "lam = 300\n",
        "epsilon = 0.001"
      ],
      "execution_count": 39,
      "outputs": []
    },
    {
      "cell_type": "markdown",
      "metadata": {
        "id": "VmYOw4CFDnXI"
      },
      "source": [
        "#Cinco variables"
      ]
    },
    {
      "cell_type": "code",
      "metadata": {
        "colab": {
          "base_uri": "https://localhost:8080/"
        },
        "id": "2TgiahMkDsEM",
        "outputId": "2c012407-0b41-4a14-f6bb-66879834d74b"
      },
      "source": [
        "var = 5\n",
        "mas_cinco = mejor_sol_M_mumaslambda_EE(M,var,gens,mu,lam,epsilon); mas_cinco"
      ],
      "execution_count": 40,
      "outputs": [
        {
          "output_type": "execute_result",
          "data": {
            "text/plain": [
              "('Mejor solución: ',\n",
              " [[array([-1.32303903e-04, -8.02953643e-06, -5.30387301e-05,  4.41500759e-05,\n",
              "           3.58774168e-05]), 0.0002751672415759465]],\n",
              " 'Peor solución: ',\n",
              " [[array([-2.12146145e-04, -3.97939035e-04,  1.07143196e-04, -1.88842904e-05,\n",
              "           2.04851218e-04]), 0.0009098872010828707]],\n",
              " 'Mediana(s): ',\n",
              " [[array([ 2.51292703e-04, -1.87546454e-05,  2.68437032e-05, -2.22469367e-04,\n",
              "           1.04557508e-04]), 0.0006328850421799537]],\n",
              " 'Media: ',\n",
              " 0.0006352553776794736,\n",
              " 'Desviación estándar: ',\n",
              " 0.00015932297961472676)"
            ]
          },
          "metadata": {},
          "execution_count": 40
        }
      ]
    },
    {
      "cell_type": "code",
      "metadata": {
        "colab": {
          "base_uri": "https://localhost:8080/"
        },
        "id": "bst8v2PSDr75",
        "outputId": "aede15f2-7416-4300-a779-e71cf283c36c"
      },
      "source": [
        "tab_mas_cinco = []\n",
        "tab_mas_cinco.extend([mas_cinco[1][0][1],mas_cinco[3][0][1],mas_cinco[5][0][1],mas_cinco[7],mas_cinco[9]]); tab_mas_cinco"
      ],
      "execution_count": 41,
      "outputs": [
        {
          "output_type": "execute_result",
          "data": {
            "text/plain": [
              "[0.0002751672415759465,\n",
              " 0.0009098872010828707,\n",
              " 0.0006328850421799537,\n",
              " 0.0006352553776794736,\n",
              " 0.00015932297961472676]"
            ]
          },
          "metadata": {},
          "execution_count": 41
        }
      ]
    },
    {
      "cell_type": "markdown",
      "metadata": {
        "id": "P5xKB1JvDVTc"
      },
      "source": [
        "#Diez variables"
      ]
    },
    {
      "cell_type": "code",
      "metadata": {
        "colab": {
          "base_uri": "https://localhost:8080/"
        },
        "id": "irT0Rd8IDYqx",
        "outputId": "2d6ad3d4-9f5e-4f16-f69a-a582da46079d"
      },
      "source": [
        "var = 10\n",
        "mas_diez = mejor_sol_M_mumaslambda_EE(M,var,gens,mu,lam,epsilon); mas_diez"
      ],
      "execution_count": 42,
      "outputs": [
        {
          "output_type": "execute_result",
          "data": {
            "text/plain": [
              "('Mejor solución: ',\n",
              " [[array([-2.53047269e-05, -1.57809288e-04,  1.40885588e-04,  4.85301939e-04,\n",
              "           4.92418617e-04, -1.04870329e-04,  1.38854156e-04,  6.07674524e-05,\n",
              "           5.30765708e-05, -5.27448781e-04]), 0.0011626546764387236]],\n",
              " 'Peor solución: ',\n",
              " [[array([-9.17461245e-01,  1.10718648e-04, -1.33360102e-04, -1.96180943e-04,\n",
              "           2.16969336e-04, -5.02127886e-04,  9.87975684e-04,  5.90580314e-04,\n",
              "           5.40073376e-04, -9.17080461e-01]), 1.6462358570762494]],\n",
              " 'Mediana(s): ',\n",
              " [[array([ 1.20336385e-03, -7.41574265e-06, -2.07473758e-04,  1.90230112e-04,\n",
              "           3.36159460e-04, -6.01978733e-04, -2.29965605e-05,  6.86811917e-05,\n",
              "          -2.79803537e-04,  3.59325173e-04]), 0.0018945218167449873]],\n",
              " 'Media: ',\n",
              " 0.2997204683503135,\n",
              " 'Desviación estándar: ',\n",
              " 0.5550330249526768)"
            ]
          },
          "metadata": {},
          "execution_count": 42
        }
      ]
    },
    {
      "cell_type": "code",
      "metadata": {
        "colab": {
          "base_uri": "https://localhost:8080/"
        },
        "id": "f1W8YQ2oDXYF",
        "outputId": "8144e57d-3a36-49a3-b90b-2b112d4fae98"
      },
      "source": [
        "tab_mas_diez = []\n",
        "tab_mas_diez.extend([mas_diez[1][0][1],mas_diez[3][0][1],mas_diez[5][0][1],mas_diez[7],mas_diez[9]]); tab_mas_diez"
      ],
      "execution_count": 43,
      "outputs": [
        {
          "output_type": "execute_result",
          "data": {
            "text/plain": [
              "[0.0011626546764387236,\n",
              " 1.6462358570762494,\n",
              " 0.0018945218167449873,\n",
              " 0.2997204683503135,\n",
              " 0.5550330249526768]"
            ]
          },
          "metadata": {},
          "execution_count": 43
        }
      ]
    },
    {
      "cell_type": "markdown",
      "metadata": {
        "id": "1f8uyHuq225R"
      },
      "source": [
        "#Veinte variables"
      ]
    },
    {
      "cell_type": "code",
      "metadata": {
        "colab": {
          "base_uri": "https://localhost:8080/"
        },
        "id": "3O3dsT1w24tD",
        "outputId": "5afd8aea-076a-48fc-f949-90f885636c75"
      },
      "source": [
        "var = 20\n",
        "mejor_sol_M_mumaslambda_EE(M,var,gens,mu,lam,epsilon)"
      ],
      "execution_count": 44,
      "outputs": [
        {
          "output_type": "execute_result",
          "data": {
            "text/plain": [
              "('Mejor solución: ',\n",
              " [[array([-0.00011798,  0.00078881,  0.00033344,  0.00035768,  0.00088484,\n",
              "          -0.00075041, -0.00050284, -0.00049298, -0.00068004,  0.00076854,\n",
              "          -0.0003114 , -0.00197108,  0.00079474, -0.00077553, -0.00067113,\n",
              "           0.00055334, -0.00095719,  0.00065404, -0.00058347,  0.00017945]),\n",
              "   0.003058208147127761]],\n",
              " 'Peor solución: ',\n",
              " [[array([ 3.87556450e+00, -8.76689702e-04, -4.21675310e-04,  9.72541531e-01,\n",
              "          -1.94284008e+00, -6.57921386e-04, -9.71510462e-01,  4.41025737e-05,\n",
              "           1.95856006e-03, -9.72123328e-01, -1.18943746e-03, -5.91694043e-04,\n",
              "           1.22240249e-03,  1.23030408e-03, -1.80853737e-03, -6.01384571e-04,\n",
              "          -9.70326364e-01,  4.45738788e-04, -9.74196289e-04, -4.37528316e-04]),\n",
              "   3.88445642690067]],\n",
              " 'Mediana(s): ',\n",
              " [[array([-6.24213008e-04, -3.63898596e-04, -7.07770170e-04, -2.31106123e-03,\n",
              "          -1.98148442e-03, -1.87705545e-04,  9.28546929e-01, -9.26264875e-01,\n",
              "          -9.26347220e-01,  2.09776521e-04, -9.27928497e-01, -1.10869140e-03,\n",
              "          -4.98088963e-04,  9.28484647e-01,  1.89888278e-04, -6.97500634e-04,\n",
              "           1.46055504e-04, -1.03187279e-04,  1.58639005e-03,  6.79863069e-04]),\n",
              "   1.8400511705512739]],\n",
              " 'Media: ',\n",
              " 1.9039906166834324,\n",
              " 'Desviación estándar: ',\n",
              " 1.0215751374162876)"
            ]
          },
          "metadata": {},
          "execution_count": 44
        }
      ]
    },
    {
      "cell_type": "markdown",
      "metadata": {
        "id": "ALjvC3uA3jq0"
      },
      "source": [
        "#Tabla comparativa"
      ]
    },
    {
      "cell_type": "markdown",
      "metadata": {
        "id": "As4Brf9o32SV"
      },
      "source": [
        "##Dos variables"
      ]
    },
    {
      "cell_type": "markdown",
      "metadata": {
        "id": "18v0hxBfEG3l"
      },
      "source": [
        "###(1+1) - EE"
      ]
    },
    {
      "cell_type": "code",
      "metadata": {
        "id": "NF7-ENM_Eq-t"
      },
      "source": [
        "M = 21\n",
        "c = 0.817\n",
        "var = 2\n",
        "gens = 1000\n",
        "r = 100"
      ],
      "execution_count": 45,
      "outputs": []
    },
    {
      "cell_type": "code",
      "metadata": {
        "colab": {
          "base_uri": "https://localhost:8080/"
        },
        "id": "U7gGG2cZD8UD",
        "outputId": "19db6ec5-f82e-4239-8605-697497063225"
      },
      "source": [
        "var = 2\n",
        "u_dos = mejor_sol_M_umasu_EE(M,var,gens,c,r); u_dos"
      ],
      "execution_count": 46,
      "outputs": [
        {
          "output_type": "execute_result",
          "data": {
            "text/plain": [
              "('Mejor solución: ',\n",
              " [[array([-18.60026784,   7.45726313]), 15.443634400053575]],\n",
              " 'Peor solución: ',\n",
              " [[array([ 28.69095864, -11.21599777]), 20.782223494140233]],\n",
              " 'Mediana(s): ',\n",
              " [[array([-23.37096613,  -9.52997495]), 19.241445463959575]],\n",
              " 'Media: ',\n",
              " 18.51787955559674,\n",
              " 'Desviación estándar: ',\n",
              " 1.6713789135245802)"
            ]
          },
          "metadata": {},
          "execution_count": 46
        }
      ]
    },
    {
      "cell_type": "code",
      "metadata": {
        "colab": {
          "base_uri": "https://localhost:8080/"
        },
        "id": "tWiG3jxQEBnM",
        "outputId": "e393659d-d359-4844-fc16-c5b3ee2b1365"
      },
      "source": [
        "tab_u_dos = []\n",
        "tab_u_dos.extend([u_dos[1][0][1],u_dos[3][0][1],u_dos[5][0][1],u_dos[7],u_dos[9]]); tab_u_dos"
      ],
      "execution_count": 47,
      "outputs": [
        {
          "output_type": "execute_result",
          "data": {
            "text/plain": [
              "[15.443634400053575,\n",
              " 20.782223494140233,\n",
              " 19.241445463959575,\n",
              " 18.51787955559674,\n",
              " 1.6713789135245802]"
            ]
          },
          "metadata": {},
          "execution_count": 47
        }
      ]
    },
    {
      "cell_type": "markdown",
      "metadata": {
        "id": "FqmaST7PELvz"
      },
      "source": [
        "###(μ,λ)-EE"
      ]
    },
    {
      "cell_type": "code",
      "metadata": {
        "id": "k1PbP5MbFB_3"
      },
      "source": [
        "M = 21\n",
        "var = 2\n",
        "gens = 100\n",
        "mu = 100\n",
        "lam = 300\n",
        "epsilon = 0.001"
      ],
      "execution_count": 48,
      "outputs": []
    },
    {
      "cell_type": "code",
      "metadata": {
        "colab": {
          "base_uri": "https://localhost:8080/"
        },
        "id": "FPhoIChEFLfI",
        "outputId": "c7a75460-07c6-4e7f-a671-bcd995498ac1"
      },
      "source": [
        "var = 2\n",
        "coma_dos = mejor_sol_M_mucomalambda_EE(M,var,gens,mu,lam,epsilon); coma_dos"
      ],
      "execution_count": 49,
      "outputs": [
        {
          "output_type": "execute_result",
          "data": {
            "text/plain": [
              "('Mejor solución: ',\n",
              " [[array([1.47018470e-05, 8.01837507e-06]), 4.737316350444942e-05]],\n",
              " 'Peor solución: ',\n",
              " [[array([-1.02736757e-05, -2.51580009e-04]), 0.0007138569829447938]],\n",
              " 'Mediana(s): ',\n",
              " [[array([9.72948107e-05, 6.16611955e-05]), 0.00032615550351922096]],\n",
              " 'Media: ',\n",
              " 0.00034735839592662084,\n",
              " 'Desviación estándar: ',\n",
              " 0.00018634086990761844)"
            ]
          },
          "metadata": {},
          "execution_count": 49
        }
      ]
    },
    {
      "cell_type": "code",
      "metadata": {
        "colab": {
          "base_uri": "https://localhost:8080/"
        },
        "id": "GY-7JZwWFNv1",
        "outputId": "dcf846fc-c6c6-4952-9ea7-0604353c887b"
      },
      "source": [
        "tab_coma_dos = []\n",
        "tab_coma_dos.extend([coma_dos[1][0][1],coma_dos[3][0][1],coma_dos[5][0][1],coma_dos[7],coma_dos[9]]); tab_coma_dos"
      ],
      "execution_count": 50,
      "outputs": [
        {
          "output_type": "execute_result",
          "data": {
            "text/plain": [
              "[4.737316350444942e-05,\n",
              " 0.0007138569829447938,\n",
              " 0.00032615550351922096,\n",
              " 0.00034735839592662084,\n",
              " 0.00018634086990761844]"
            ]
          },
          "metadata": {},
          "execution_count": 50
        }
      ]
    },
    {
      "cell_type": "markdown",
      "metadata": {
        "id": "QdatjD1EEODl"
      },
      "source": [
        "###(μ+λ)-EE"
      ]
    },
    {
      "cell_type": "code",
      "metadata": {
        "id": "zm8-l-EIGVg1"
      },
      "source": [
        "M = 21\n",
        "var = 2\n",
        "gens = 100\n",
        "mu = 100\n",
        "lam = 300\n",
        "epsilon = 0.001"
      ],
      "execution_count": 51,
      "outputs": []
    },
    {
      "cell_type": "code",
      "metadata": {
        "colab": {
          "base_uri": "https://localhost:8080/"
        },
        "id": "EMuLqqnBFRLE",
        "outputId": "853f095e-f9b6-4211-9053-adff73aa13bb"
      },
      "source": [
        "var = 2\n",
        "mas_dos = mejor_sol_M_mumaslambda_EE(M,var,gens,mu,lam,epsilon); mas_dos"
      ],
      "execution_count": 52,
      "outputs": [
        {
          "output_type": "execute_result",
          "data": {
            "text/plain": [
              "('Mejor solución: ',\n",
              " [[array([-2.26429669e-06,  2.18823646e-06]), 8.906629525018417e-06]],\n",
              " 'Peor solución: ',\n",
              " [[array([-2.54399496e-05,  4.73433402e-06]), 7.320826442169803e-05]],\n",
              " 'Mediana(s): ',\n",
              " [[array([-5.63822582e-06,  1.17860905e-05]), 3.695873543607675e-05]],\n",
              " 'Media: ',\n",
              " 3.975265232278974e-05,\n",
              " 'Desviación estándar: ',\n",
              " 1.818662103341452e-05)"
            ]
          },
          "metadata": {},
          "execution_count": 52
        }
      ]
    },
    {
      "cell_type": "code",
      "metadata": {
        "colab": {
          "base_uri": "https://localhost:8080/"
        },
        "id": "rAs2WnbsFPsL",
        "outputId": "1339a8e2-1db5-4d12-da9b-10948e96f559"
      },
      "source": [
        "tab_mas_dos = []\n",
        "tab_mas_dos.extend([mas_dos[1][0][1],mas_dos[3][0][1],mas_dos[5][0][1],mas_dos[7],mas_dos[9]]); tab_mas_dos"
      ],
      "execution_count": 53,
      "outputs": [
        {
          "output_type": "execute_result",
          "data": {
            "text/plain": [
              "[8.906629525018417e-06,\n",
              " 7.320826442169803e-05,\n",
              " 3.695873543607675e-05,\n",
              " 3.975265232278974e-05,\n",
              " 1.818662103341452e-05]"
            ]
          },
          "metadata": {},
          "execution_count": 53
        }
      ]
    },
    {
      "cell_type": "code",
      "metadata": {
        "colab": {
          "base_uri": "https://localhost:8080/"
        },
        "id": "RnneuiPC5RNB",
        "outputId": "f07c0b38-a5e7-4b2e-aa08-e8663ecb5227"
      },
      "source": [
        "#Comprobar que todo está en orden\n",
        "print(tab_u_dos,'\\n', tab_coma_dos, '\\n', tab_mas_dos)"
      ],
      "execution_count": 54,
      "outputs": [
        {
          "output_type": "stream",
          "text": [
            "[15.443634400053575, 20.782223494140233, 19.241445463959575, 18.51787955559674, 1.6713789135245802] \n",
            " [4.737316350444942e-05, 0.0007138569829447938, 0.00032615550351922096, 0.00034735839592662084, 0.00018634086990761844] \n",
            " [8.906629525018417e-06, 7.320826442169803e-05, 3.695873543607675e-05, 3.975265232278974e-05, 1.818662103341452e-05]\n"
          ],
          "name": "stdout"
        }
      ]
    },
    {
      "cell_type": "markdown",
      "metadata": {
        "id": "7MW-qYxpHAkH"
      },
      "source": [
        "##Tabla comparativa para dos variables"
      ]
    },
    {
      "cell_type": "code",
      "metadata": {
        "colab": {
          "base_uri": "https://localhost:8080/",
          "height": 142
        },
        "id": "TqbWf3zJ3mIq",
        "outputId": "8d22ecb8-9c11-499e-e6dd-a40274d99f0a"
      },
      "source": [
        "data_dos = [tab_u_dos,tab_coma_dos,tab_mas_dos] \n",
        "df_dos = pd.DataFrame(data_dos,columns = ['Mejor solución','Peor solución','Mediana(s)','Media','Desviación estándar'])\n",
        "EE = ['(1+1) - EE','(μ,λ) - EE','(μ+λ) - EE']\n",
        "\n",
        "df_dos.insert(0, 'EE', EE); df_dos"
      ],
      "execution_count": 55,
      "outputs": [
        {
          "output_type": "execute_result",
          "data": {
            "text/html": [
              "<div>\n",
              "<style scoped>\n",
              "    .dataframe tbody tr th:only-of-type {\n",
              "        vertical-align: middle;\n",
              "    }\n",
              "\n",
              "    .dataframe tbody tr th {\n",
              "        vertical-align: top;\n",
              "    }\n",
              "\n",
              "    .dataframe thead th {\n",
              "        text-align: right;\n",
              "    }\n",
              "</style>\n",
              "<table border=\"1\" class=\"dataframe\">\n",
              "  <thead>\n",
              "    <tr style=\"text-align: right;\">\n",
              "      <th></th>\n",
              "      <th>EE</th>\n",
              "      <th>Mejor solución</th>\n",
              "      <th>Peor solución</th>\n",
              "      <th>Mediana(s)</th>\n",
              "      <th>Media</th>\n",
              "      <th>Desviación estándar</th>\n",
              "    </tr>\n",
              "  </thead>\n",
              "  <tbody>\n",
              "    <tr>\n",
              "      <th>0</th>\n",
              "      <td>(1+1) - EE</td>\n",
              "      <td>15.443634</td>\n",
              "      <td>20.782223</td>\n",
              "      <td>19.241445</td>\n",
              "      <td>18.517880</td>\n",
              "      <td>1.671379</td>\n",
              "    </tr>\n",
              "    <tr>\n",
              "      <th>1</th>\n",
              "      <td>(μ,λ) - EE</td>\n",
              "      <td>0.000047</td>\n",
              "      <td>0.000714</td>\n",
              "      <td>0.000326</td>\n",
              "      <td>0.000347</td>\n",
              "      <td>0.000186</td>\n",
              "    </tr>\n",
              "    <tr>\n",
              "      <th>2</th>\n",
              "      <td>(μ+λ) - EE</td>\n",
              "      <td>0.000009</td>\n",
              "      <td>0.000073</td>\n",
              "      <td>0.000037</td>\n",
              "      <td>0.000040</td>\n",
              "      <td>0.000018</td>\n",
              "    </tr>\n",
              "  </tbody>\n",
              "</table>\n",
              "</div>"
            ],
            "text/plain": [
              "           EE  Mejor solución  ...      Media  Desviación estándar\n",
              "0  (1+1) - EE       15.443634  ...  18.517880             1.671379\n",
              "1  (μ,λ) - EE        0.000047  ...   0.000347             0.000186\n",
              "2  (μ+λ) - EE        0.000009  ...   0.000040             0.000018\n",
              "\n",
              "[3 rows x 6 columns]"
            ]
          },
          "metadata": {},
          "execution_count": 55
        }
      ]
    },
    {
      "cell_type": "markdown",
      "metadata": {
        "id": "1KZq8EPQGnWs"
      },
      "source": [
        "##Cinco variables"
      ]
    },
    {
      "cell_type": "code",
      "metadata": {
        "colab": {
          "base_uri": "https://localhost:8080/"
        },
        "id": "nIBc30PDHQcL",
        "outputId": "d4454b5e-b75a-4058-98c9-a753555e2408"
      },
      "source": [
        "#Comprobar que todo está en orden\n",
        "print(tab_u_cinco,'\\n', tab_coma_cinco, '\\n', tab_mas_cinco)"
      ],
      "execution_count": 56,
      "outputs": [
        {
          "output_type": "stream",
          "text": [
            "[16.6405292830419, 19.86046142040925, 19.251503389151498, 18.952849113747543, 0.85805284634053] \n",
            " [0.001154415531669617, 0.0023521933200467693, 0.0017479722570858947, 0.0017735248589436541, 0.00030433673504248504] \n",
            " [0.0002751672415759465, 0.0009098872010828707, 0.0006328850421799537, 0.0006352553776794736, 0.00015932297961472676]\n"
          ],
          "name": "stdout"
        }
      ]
    },
    {
      "cell_type": "markdown",
      "metadata": {
        "id": "T45Ff1fcKKBo"
      },
      "source": [
        "##Tabla comparativa para cinco variables"
      ]
    },
    {
      "cell_type": "code",
      "metadata": {
        "colab": {
          "base_uri": "https://localhost:8080/",
          "height": 142
        },
        "id": "XpAsXBHUHVkr",
        "outputId": "f7200d8a-05e3-472d-9af6-ad7b4d6a20e6"
      },
      "source": [
        "data_cinco = [tab_u_cinco,tab_coma_cinco,tab_mas_cinco] \n",
        "df_cinco = pd.DataFrame(data_cinco,columns = ['Mejor solución','Peor solución','Mediana(s)','Media','Desviación estándar'])\n",
        "EE = ['(1+1) - EE','(μ,λ) - EE','(μ+λ) - EE']\n",
        "\n",
        "df_cinco.insert(0, 'EE', EE);df_cinco"
      ],
      "execution_count": 57,
      "outputs": [
        {
          "output_type": "execute_result",
          "data": {
            "text/html": [
              "<div>\n",
              "<style scoped>\n",
              "    .dataframe tbody tr th:only-of-type {\n",
              "        vertical-align: middle;\n",
              "    }\n",
              "\n",
              "    .dataframe tbody tr th {\n",
              "        vertical-align: top;\n",
              "    }\n",
              "\n",
              "    .dataframe thead th {\n",
              "        text-align: right;\n",
              "    }\n",
              "</style>\n",
              "<table border=\"1\" class=\"dataframe\">\n",
              "  <thead>\n",
              "    <tr style=\"text-align: right;\">\n",
              "      <th></th>\n",
              "      <th>EE</th>\n",
              "      <th>Mejor solución</th>\n",
              "      <th>Peor solución</th>\n",
              "      <th>Mediana(s)</th>\n",
              "      <th>Media</th>\n",
              "      <th>Desviación estándar</th>\n",
              "    </tr>\n",
              "  </thead>\n",
              "  <tbody>\n",
              "    <tr>\n",
              "      <th>0</th>\n",
              "      <td>(1+1) - EE</td>\n",
              "      <td>16.640529</td>\n",
              "      <td>19.860461</td>\n",
              "      <td>19.251503</td>\n",
              "      <td>18.952849</td>\n",
              "      <td>0.858053</td>\n",
              "    </tr>\n",
              "    <tr>\n",
              "      <th>1</th>\n",
              "      <td>(μ,λ) - EE</td>\n",
              "      <td>0.001154</td>\n",
              "      <td>0.002352</td>\n",
              "      <td>0.001748</td>\n",
              "      <td>0.001774</td>\n",
              "      <td>0.000304</td>\n",
              "    </tr>\n",
              "    <tr>\n",
              "      <th>2</th>\n",
              "      <td>(μ+λ) - EE</td>\n",
              "      <td>0.000275</td>\n",
              "      <td>0.000910</td>\n",
              "      <td>0.000633</td>\n",
              "      <td>0.000635</td>\n",
              "      <td>0.000159</td>\n",
              "    </tr>\n",
              "  </tbody>\n",
              "</table>\n",
              "</div>"
            ],
            "text/plain": [
              "           EE  Mejor solución  ...      Media  Desviación estándar\n",
              "0  (1+1) - EE       16.640529  ...  18.952849             0.858053\n",
              "1  (μ,λ) - EE        0.001154  ...   0.001774             0.000304\n",
              "2  (μ+λ) - EE        0.000275  ...   0.000635             0.000159\n",
              "\n",
              "[3 rows x 6 columns]"
            ]
          },
          "metadata": {},
          "execution_count": 57
        }
      ]
    },
    {
      "cell_type": "markdown",
      "metadata": {
        "id": "OgAJ-Q5uIAzr"
      },
      "source": [
        "##Siete variables"
      ]
    },
    {
      "cell_type": "markdown",
      "metadata": {
        "id": "U8z0ad45IH9S"
      },
      "source": [
        "###(1+1) - EE"
      ]
    },
    {
      "cell_type": "code",
      "metadata": {
        "id": "QNTFmID3II0a"
      },
      "source": [
        "M = 21\n",
        "c = 0.817\n",
        "var = 7\n",
        "gens = 1000\n",
        "r = 100"
      ],
      "execution_count": 58,
      "outputs": []
    },
    {
      "cell_type": "code",
      "metadata": {
        "colab": {
          "base_uri": "https://localhost:8080/"
        },
        "id": "iD1lq9KWIVTK",
        "outputId": "f3828317-f627-4a52-d966-2c8c5e83b2fc"
      },
      "source": [
        "var = 7\n",
        "u_siete = mejor_sol_M_umasu_EE(M,var,gens,c,r); u_siete"
      ],
      "execution_count": 59,
      "outputs": [
        {
          "output_type": "execute_result",
          "data": {
            "text/plain": [
              "('Mejor solución: ',\n",
              " [[array([17.0060536 ,  5.41831209,  8.26603189,  9.61086027, -5.62020517,\n",
              "          12.96471115,  0.94784548]), 17.58015652514357]],\n",
              " 'Peor solución: ',\n",
              " [[array([ 20.20302231,  26.57631888,  26.27810865, -17.51802178,\n",
              "          -25.22877629,   8.15027606,  26.32404966]), 21.142465485338487]],\n",
              " 'Mediana(s): ',\n",
              " [[array([ 24.22841882, -19.20653411,  -7.33301215, -14.899068  ,\n",
              "           11.19763973,  24.64261583,   9.37638097]), 20.0301096117566]],\n",
              " 'Media: ',\n",
              " 19.82939983931673,\n",
              " 'Desviación estándar: ',\n",
              " 0.7088417603013637)"
            ]
          },
          "metadata": {},
          "execution_count": 59
        }
      ]
    },
    {
      "cell_type": "code",
      "metadata": {
        "colab": {
          "base_uri": "https://localhost:8080/"
        },
        "id": "l73rN9_NIX3v",
        "outputId": "e3361db3-5d46-4000-dc8c-cd85b86959b1"
      },
      "source": [
        "tab_u_siete = []\n",
        "tab_u_siete.extend([u_siete[1][0][1],u_siete[3][0][1],u_siete[5][0][1],u_siete[7],u_siete[9]]); tab_u_siete"
      ],
      "execution_count": 60,
      "outputs": [
        {
          "output_type": "execute_result",
          "data": {
            "text/plain": [
              "[17.58015652514357,\n",
              " 21.142465485338487,\n",
              " 20.0301096117566,\n",
              " 19.82939983931673,\n",
              " 0.7088417603013637]"
            ]
          },
          "metadata": {},
          "execution_count": 60
        }
      ]
    },
    {
      "cell_type": "markdown",
      "metadata": {
        "id": "SJ4JLqKfIsCW"
      },
      "source": [
        "###(μ,λ)-EE"
      ]
    },
    {
      "cell_type": "code",
      "metadata": {
        "id": "VsOs3TjGI6WH"
      },
      "source": [
        "M = 21\n",
        "var = 7\n",
        "gens = 100\n",
        "mu = 100\n",
        "lam = 300\n",
        "epsilon = 0.001"
      ],
      "execution_count": 61,
      "outputs": []
    },
    {
      "cell_type": "code",
      "metadata": {
        "colab": {
          "base_uri": "https://localhost:8080/"
        },
        "id": "Q4v5WhXOI6LT",
        "outputId": "bf9bdc2c-8c34-451d-a9df-40b46b3becec"
      },
      "source": [
        "var = 7\n",
        "coma_siete = mejor_sol_M_mucomalambda_EE(M,var,gens,mu,lam,epsilon); coma_siete"
      ],
      "execution_count": 62,
      "outputs": [
        {
          "output_type": "execute_result",
          "data": {
            "text/plain": [
              "('Mejor solución: ',\n",
              " [[array([ 1.55310964e-04, -5.26234904e-04, -4.37672358e-04,  2.06077736e-06,\n",
              "           3.05043557e-04,  2.16122083e-04, -3.15624352e-04]),\n",
              "   0.001299056051170755]],\n",
              " 'Peor solución: ',\n",
              " [[array([ 9.00007837e-01, -6.52401131e-05,  4.26267376e-04, -3.72775059e-04,\n",
              "          -8.08901107e-04,  5.59752712e-05, -4.12015359e-04]),\n",
              "   1.3885891535956323]],\n",
              " 'Mediana(s): ',\n",
              " [[array([ 0.00018197,  0.00028803, -0.00025942,  0.0001337 , -0.00120417,\n",
              "           0.0002543 , -0.0005746 ]), 0.002178158598031832]],\n",
              " 'Media: ',\n",
              " 0.06823573598425298,\n",
              " 'Desviación estándar: ',\n",
              " 0.30253142707994213)"
            ]
          },
          "metadata": {},
          "execution_count": 62
        }
      ]
    },
    {
      "cell_type": "code",
      "metadata": {
        "colab": {
          "base_uri": "https://localhost:8080/"
        },
        "id": "8rKTVinHI5vw",
        "outputId": "1328e64b-47c1-4ea8-8f60-2a2eab00423c"
      },
      "source": [
        "tab_coma_siete = []\n",
        "tab_coma_siete.extend([coma_siete[1][0][1],coma_siete[3][0][1],coma_siete[5][0][1],coma_siete[7],coma_siete[9]]); tab_coma_siete"
      ],
      "execution_count": 63,
      "outputs": [
        {
          "output_type": "execute_result",
          "data": {
            "text/plain": [
              "[0.001299056051170755,\n",
              " 1.3885891535956323,\n",
              " 0.002178158598031832,\n",
              " 0.06823573598425298,\n",
              " 0.30253142707994213]"
            ]
          },
          "metadata": {},
          "execution_count": 63
        }
      ]
    },
    {
      "cell_type": "markdown",
      "metadata": {
        "id": "8yFF11XgIldD"
      },
      "source": [
        "###(μ+λ)-EE"
      ]
    },
    {
      "cell_type": "code",
      "metadata": {
        "id": "t01OXk2VJYB0"
      },
      "source": [
        "M = 21\n",
        "var = 7\n",
        "gens = 100\n",
        "mu = 100\n",
        "lam = 300\n",
        "epsilon = 0.001"
      ],
      "execution_count": 64,
      "outputs": []
    },
    {
      "cell_type": "code",
      "metadata": {
        "colab": {
          "base_uri": "https://localhost:8080/"
        },
        "id": "ImnpKsK5JX1o",
        "outputId": "60511732-e6b1-44af-c264-c4f9f67da846"
      },
      "source": [
        "var = 7\n",
        "mas_siete = mejor_sol_M_mumaslambda_EE(M,var,gens,mu,lam,epsilon); mas_siete"
      ],
      "execution_count": 65,
      "outputs": [
        {
          "output_type": "execute_result",
          "data": {
            "text/plain": [
              "('Mejor solución: ',\n",
              " [[array([ 1.22845068e-04, -6.88279805e-05,  3.05333351e-05, -9.23632686e-05,\n",
              "           3.12204673e-04,  2.49779648e-05,  7.73406451e-05]),\n",
              "   0.0005531403230958354]],\n",
              " 'Peor solución: ',\n",
              " [[array([-6.78089870e-05,  1.74045750e-04,  2.40052089e-04,  6.61775214e-04,\n",
              "          -4.91596522e-05, -2.65316580e-04,  5.29973352e-04]),\n",
              "   0.0014283094432276933]],\n",
              " 'Mediana(s): ',\n",
              " [[array([ 1.50610076e-04, -1.64964361e-04, -1.88869584e-04, -4.61219862e-05,\n",
              "          -4.34350054e-04, -2.59994967e-04, -3.76201986e-04]),\n",
              "   0.0010571026148871177]],\n",
              " 'Media: ',\n",
              " 0.0010536967210940055,\n",
              " 'Desviación estándar: ',\n",
              " 0.0002288156863323856)"
            ]
          },
          "metadata": {},
          "execution_count": 65
        }
      ]
    },
    {
      "cell_type": "code",
      "metadata": {
        "colab": {
          "base_uri": "https://localhost:8080/"
        },
        "id": "6d2bY7NSJXsE",
        "outputId": "94fde976-ba3e-4e75-c29e-e5da2ce1b79c"
      },
      "source": [
        "tab_mas_siete = []\n",
        "tab_mas_siete.extend([mas_siete[1][0][1],mas_siete[3][0][1],mas_siete[5][0][1],mas_siete[7],mas_siete[9]]); tab_mas_siete"
      ],
      "execution_count": 66,
      "outputs": [
        {
          "output_type": "execute_result",
          "data": {
            "text/plain": [
              "[0.0005531403230958354,\n",
              " 0.0014283094432276933,\n",
              " 0.0010571026148871177,\n",
              " 0.0010536967210940055,\n",
              " 0.0002288156863323856]"
            ]
          },
          "metadata": {},
          "execution_count": 66
        }
      ]
    },
    {
      "cell_type": "code",
      "metadata": {
        "colab": {
          "base_uri": "https://localhost:8080/"
        },
        "id": "ziv-9K5TJ1JM",
        "outputId": "1a6ff551-9bcd-4b20-a1a9-27bfc2301fb6"
      },
      "source": [
        "#Comprobar que todo está en orden\n",
        "print(tab_u_siete,'\\n', tab_coma_siete, '\\n', tab_mas_siete)"
      ],
      "execution_count": 67,
      "outputs": [
        {
          "output_type": "stream",
          "text": [
            "[17.58015652514357, 21.142465485338487, 20.0301096117566, 19.82939983931673, 0.7088417603013637] \n",
            " [0.001299056051170755, 1.3885891535956323, 0.002178158598031832, 0.06823573598425298, 0.30253142707994213] \n",
            " [0.0005531403230958354, 0.0014283094432276933, 0.0010571026148871177, 0.0010536967210940055, 0.0002288156863323856]\n"
          ],
          "name": "stdout"
        }
      ]
    },
    {
      "cell_type": "markdown",
      "metadata": {
        "id": "7E5Uh-HSJyJk"
      },
      "source": [
        "##Tabla comparativa para siete variables"
      ]
    },
    {
      "cell_type": "code",
      "metadata": {
        "colab": {
          "base_uri": "https://localhost:8080/",
          "height": 142
        },
        "id": "z0wIlxO0J3Mw",
        "outputId": "f599d523-e80f-4464-8a2d-a112cf981017"
      },
      "source": [
        "data_siete = [tab_u_siete,tab_coma_siete,tab_mas_siete] \n",
        "df_siete = pd.DataFrame(data_siete,columns = ['Mejor solución','Peor solución','Mediana(s)','Media','Desviación estándar'])\n",
        "EE = ['(1+1) - EE','(μ,λ) - EE','(μ+λ) - EE']\n",
        "\n",
        "df_siete.insert(0, 'EE', EE); df_siete"
      ],
      "execution_count": 68,
      "outputs": [
        {
          "output_type": "execute_result",
          "data": {
            "text/html": [
              "<div>\n",
              "<style scoped>\n",
              "    .dataframe tbody tr th:only-of-type {\n",
              "        vertical-align: middle;\n",
              "    }\n",
              "\n",
              "    .dataframe tbody tr th {\n",
              "        vertical-align: top;\n",
              "    }\n",
              "\n",
              "    .dataframe thead th {\n",
              "        text-align: right;\n",
              "    }\n",
              "</style>\n",
              "<table border=\"1\" class=\"dataframe\">\n",
              "  <thead>\n",
              "    <tr style=\"text-align: right;\">\n",
              "      <th></th>\n",
              "      <th>EE</th>\n",
              "      <th>Mejor solución</th>\n",
              "      <th>Peor solución</th>\n",
              "      <th>Mediana(s)</th>\n",
              "      <th>Media</th>\n",
              "      <th>Desviación estándar</th>\n",
              "    </tr>\n",
              "  </thead>\n",
              "  <tbody>\n",
              "    <tr>\n",
              "      <th>0</th>\n",
              "      <td>(1+1) - EE</td>\n",
              "      <td>17.580157</td>\n",
              "      <td>21.142465</td>\n",
              "      <td>20.030110</td>\n",
              "      <td>19.829400</td>\n",
              "      <td>0.708842</td>\n",
              "    </tr>\n",
              "    <tr>\n",
              "      <th>1</th>\n",
              "      <td>(μ,λ) - EE</td>\n",
              "      <td>0.001299</td>\n",
              "      <td>1.388589</td>\n",
              "      <td>0.002178</td>\n",
              "      <td>0.068236</td>\n",
              "      <td>0.302531</td>\n",
              "    </tr>\n",
              "    <tr>\n",
              "      <th>2</th>\n",
              "      <td>(μ+λ) - EE</td>\n",
              "      <td>0.000553</td>\n",
              "      <td>0.001428</td>\n",
              "      <td>0.001057</td>\n",
              "      <td>0.001054</td>\n",
              "      <td>0.000229</td>\n",
              "    </tr>\n",
              "  </tbody>\n",
              "</table>\n",
              "</div>"
            ],
            "text/plain": [
              "           EE  Mejor solución  ...      Media  Desviación estándar\n",
              "0  (1+1) - EE       17.580157  ...  19.829400             0.708842\n",
              "1  (μ,λ) - EE        0.001299  ...   0.068236             0.302531\n",
              "2  (μ+λ) - EE        0.000553  ...   0.001054             0.000229\n",
              "\n",
              "[3 rows x 6 columns]"
            ]
          },
          "metadata": {},
          "execution_count": 68
        }
      ]
    },
    {
      "cell_type": "markdown",
      "metadata": {
        "id": "GOh7q0b7Htbk"
      },
      "source": [
        "##Diez variables"
      ]
    },
    {
      "cell_type": "code",
      "metadata": {
        "colab": {
          "base_uri": "https://localhost:8080/"
        },
        "id": "rSb6l_zVHxJ1",
        "outputId": "91a0b2c5-e2fa-4341-fa09-dfdc6913d625"
      },
      "source": [
        "#Comprobar que todo está en orden\n",
        "print(tab_u_diez,'\\n', tab_coma_diez, '\\n', tab_mas_diez)"
      ],
      "execution_count": 69,
      "outputs": [
        {
          "output_type": "stream",
          "text": [
            "[19.516452175027798, 20.567584877914847, 20.056533077213135, 20.08529277803858, 0.2890361273287624] \n",
            " [0.002521681006847576, 0.004244274046442786, 0.0031577960234128177, 0.003227574295997272, 0.0004269407360682909] \n",
            " [0.0011626546764387236, 1.6462358570762494, 0.0018945218167449873, 0.2997204683503135, 0.5550330249526768]\n"
          ],
          "name": "stdout"
        }
      ]
    },
    {
      "cell_type": "markdown",
      "metadata": {
        "id": "3lJD0tIkKRvF"
      },
      "source": [
        "##Tabla comparativa para diez variables"
      ]
    },
    {
      "cell_type": "code",
      "metadata": {
        "colab": {
          "base_uri": "https://localhost:8080/",
          "height": 142
        },
        "id": "8XQT7iAHHyh2",
        "outputId": "d849c524-1f0f-4303-f8ca-b13af0916cb4"
      },
      "source": [
        "data_diez = [tab_u_diez,tab_coma_diez,tab_mas_diez] \n",
        "df_diez = pd.DataFrame(data_diez,columns = ['Mejor solución','Peor solución','Mediana(s)','Media','Desviación estándar'])\n",
        "EE = ['(1+1) - EE','(μ,λ) - EE','(μ+λ) - EE']\n",
        "\n",
        "df_diez.insert(0, 'EE', EE);df_diez"
      ],
      "execution_count": 70,
      "outputs": [
        {
          "output_type": "execute_result",
          "data": {
            "text/html": [
              "<div>\n",
              "<style scoped>\n",
              "    .dataframe tbody tr th:only-of-type {\n",
              "        vertical-align: middle;\n",
              "    }\n",
              "\n",
              "    .dataframe tbody tr th {\n",
              "        vertical-align: top;\n",
              "    }\n",
              "\n",
              "    .dataframe thead th {\n",
              "        text-align: right;\n",
              "    }\n",
              "</style>\n",
              "<table border=\"1\" class=\"dataframe\">\n",
              "  <thead>\n",
              "    <tr style=\"text-align: right;\">\n",
              "      <th></th>\n",
              "      <th>EE</th>\n",
              "      <th>Mejor solución</th>\n",
              "      <th>Peor solución</th>\n",
              "      <th>Mediana(s)</th>\n",
              "      <th>Media</th>\n",
              "      <th>Desviación estándar</th>\n",
              "    </tr>\n",
              "  </thead>\n",
              "  <tbody>\n",
              "    <tr>\n",
              "      <th>0</th>\n",
              "      <td>(1+1) - EE</td>\n",
              "      <td>19.516452</td>\n",
              "      <td>20.567585</td>\n",
              "      <td>20.056533</td>\n",
              "      <td>20.085293</td>\n",
              "      <td>0.289036</td>\n",
              "    </tr>\n",
              "    <tr>\n",
              "      <th>1</th>\n",
              "      <td>(μ,λ) - EE</td>\n",
              "      <td>0.002522</td>\n",
              "      <td>0.004244</td>\n",
              "      <td>0.003158</td>\n",
              "      <td>0.003228</td>\n",
              "      <td>0.000427</td>\n",
              "    </tr>\n",
              "    <tr>\n",
              "      <th>2</th>\n",
              "      <td>(μ+λ) - EE</td>\n",
              "      <td>0.001163</td>\n",
              "      <td>1.646236</td>\n",
              "      <td>0.001895</td>\n",
              "      <td>0.299720</td>\n",
              "      <td>0.555033</td>\n",
              "    </tr>\n",
              "  </tbody>\n",
              "</table>\n",
              "</div>"
            ],
            "text/plain": [
              "           EE  Mejor solución  ...      Media  Desviación estándar\n",
              "0  (1+1) - EE       19.516452  ...  20.085293             0.289036\n",
              "1  (μ,λ) - EE        0.002522  ...   0.003228             0.000427\n",
              "2  (μ+λ) - EE        0.001163  ...   0.299720             0.555033\n",
              "\n",
              "[3 rows x 6 columns]"
            ]
          },
          "metadata": {},
          "execution_count": 70
        }
      ]
    },
    {
      "cell_type": "markdown",
      "metadata": {
        "id": "YwzaoAyRN3zr"
      },
      "source": [
        "#Se puede apreciar que en todos los casos, sin importar las variables de decisión, (μ+λ) - EE regresa siempre una mejor solución que (μ,λ) - EE"
      ]
    }
  ]
}