{
  "nbformat": 4,
  "nbformat_minor": 0,
  "metadata": {
    "colab": {
      "name": "FonsecaFrancisco_RecocidoSimulado.ipynb",
      "provenance": [],
      "collapsed_sections": []
    },
    "kernelspec": {
      "name": "python3",
      "display_name": "Python 3"
    },
    "language_info": {
      "name": "python"
    }
  },
  "cells": [
    {
      "cell_type": "code",
      "metadata": {
        "id": "P5z6w8lGNJq2"
      },
      "source": [
        "#Paqueterias necesarias para la realizacion de todo el códigatzo\n",
        "import numpy as np\n",
        "import math\n",
        "from copy import copy\n",
        "import random\n",
        "import statistics\n",
        "from random import randrange"
      ],
      "execution_count": 1,
      "outputs": []
    },
    {
      "cell_type": "markdown",
      "metadata": {
        "id": "jniyPGBTODR9"
      },
      "source": [
        "#Solo necesitas meter el txt en la celda de aquí abajo. \n",
        "(De favor, el txt debe estar como en el ejemplo de entrada en el manual de metaheuristica). Sino, te tocará meter las entradas a manita xd"
      ]
    },
    {
      "cell_type": "code",
      "metadata": {
        "id": "MySseABiOAvW"
      },
      "source": [
        "rs = \"/content/drive/MyDrive/Computo evolutivo/RecocidoSimulado/mochila.txt\""
      ],
      "execution_count": 2,
      "outputs": []
    },
    {
      "cell_type": "markdown",
      "metadata": {
        "id": "87lsD-6FOPtP"
      },
      "source": [
        "#Poner el número de ejecuciones que deseas. En mi caso, le puse 6"
      ]
    },
    {
      "cell_type": "code",
      "metadata": {
        "id": "5DcKE6fzOPUz"
      },
      "source": [
        "M = 9"
      ],
      "execution_count": 3,
      "outputs": []
    },
    {
      "cell_type": "markdown",
      "metadata": {
        "id": "G9VjKF-hOVLQ"
      },
      "source": [
        "#Lector del txt, y organizador las entradas para poder ser compiladas en las funciones\n",
        "\n",
        "Se asume que solo la temperatura puede ser flotante; Me faltó asumir que en la búsqueda tabú todas las entradas eran enteros.\n",
        "Sino, pues se cambian los int() por float(), como lo hice con la temperatura"
      ]
    },
    {
      "cell_type": "code",
      "metadata": {
        "id": "sSg2uh09VDya"
      },
      "source": [
        "def mochilita(texto):\n",
        "  with open(texto) as f: #Abro el txt\n",
        "    contents = f.readlines() #Leo el contenido del mismo\n",
        "\n",
        "\n",
        "  #Temperatura\n",
        "  te = '' #Esta es la herramienta mágica :vvv\n",
        "  temp = [] #Lista vacía donde se van a guardar las temperaturas\n",
        "\n",
        "  for i in range(len(contents[0])): #Como vienen las temperaturas iniciales y finales en la misma línea\n",
        "      if contents[0][i] != ' ' and contents[0][i] != '\\n': #Si es diferente a un espacio o un salto de línea\n",
        "        te += contents[0][i] #Añade ese texto a la herramienta mágica.\n",
        "      else:\n",
        "        te = float(te) #Convierte el texto a entero\n",
        "        temp.append(te) #Metelo en la lista de costos\n",
        "        te = '' #Vacía la herramienta mágica\n",
        "\n",
        "\n",
        "  #Número de objetos\n",
        "  obj = contents[1][:-1]\n",
        "  obj = int(obj)\n",
        "\n",
        "\n",
        "  #Capacidad de la mochila\n",
        "  moch = contents[2][:-1]\n",
        "  moch = int(moch)\n",
        "\n",
        "\n",
        "  #Valor de pi y wi de cada objeto i\n",
        "  ahsu = '' #Otra herramienta mágica ;v\n",
        "  costs = [] #Lista donde voy a guardar los pi y wi\n",
        "\n",
        "  if contents[-1][-1] != '\\n': #Si contents en la última fila es diferente de un salto de línea\n",
        "    contents[-1] += '\\n' #Añadiendo salto de línea, porque en la última fila no se ecuentra\n",
        "\n",
        "  for i in range(3,len(contents)): #Como las primeras tres líneas corresponden a entradas diferentes, empiezo en tres. Porque el contenido de aquí para abajo es de la entrada 4\n",
        "      for j in range(len(contents[i])): #Recorre la fila i\n",
        "        if contents[i][j] != ' ' and contents[i][j] != '\\n': #Si es diferente a un espacio o un salto de línea\n",
        "          ahsu += contents[i][j] #Añade ese texto a la herramienta mágica.\n",
        "        else:\n",
        "          ahsu = int(ahsu) #Convierte el texto a entero\n",
        "          costs.append(ahsu) #Metelo en la lista de costos\n",
        "          ahsu = '' #Vacía la herramienta mágica\n",
        "\n",
        "\n",
        "  #Lista con las pi\n",
        "  pi = []\n",
        "\n",
        "  for p in range(0, len(costs), 2):\n",
        "    pi.append(costs[p])\n",
        "\n",
        "  \n",
        "  #Listca con las wi\n",
        "  wi = []\n",
        "\n",
        "  for w in range(1, len(costs), 2):\n",
        "    wi.append(costs[w])\n",
        "\n",
        "\n",
        "  return temp, obj, moch, pi, wi"
      ],
      "execution_count": 4,
      "outputs": []
    },
    {
      "cell_type": "code",
      "metadata": {
        "colab": {
          "base_uri": "https://localhost:8080/"
        },
        "id": "gxRUhzPyQ5RO",
        "outputId": "4016975c-de26-41c0-9c03-14d4e13e9d06"
      },
      "source": [
        "entradas = mochilita(rs); entradas"
      ],
      "execution_count": 5,
      "outputs": [
        {
          "output_type": "execute_result",
          "data": {
            "text/plain": [
              "([1000.0, 0.1], 5, 15, [5, 14, 7, 2, 23], [2, 3, 7, 5, 10])"
            ]
          },
          "metadata": {
            "tags": []
          },
          "execution_count": 5
        }
      ]
    },
    {
      "cell_type": "code",
      "metadata": {
        "colab": {
          "base_uri": "https://localhost:8080/"
        },
        "id": "IpdpbciQW9U2",
        "outputId": "92e30c4c-2781-42c4-85ad-a00d10569078"
      },
      "source": [
        "#Temperatura inicial\n",
        "tem_ini = entradas[0][0]; tem_ini"
      ],
      "execution_count": 6,
      "outputs": [
        {
          "output_type": "execute_result",
          "data": {
            "text/plain": [
              "1000.0"
            ]
          },
          "metadata": {
            "tags": []
          },
          "execution_count": 6
        }
      ]
    },
    {
      "cell_type": "code",
      "metadata": {
        "colab": {
          "base_uri": "https://localhost:8080/"
        },
        "id": "I9rcwSGUXE5N",
        "outputId": "15d14385-5dcc-4886-dba0-6ba106e03c73"
      },
      "source": [
        "#Temperatura final\n",
        "tem_fin = entradas[0][1]; tem_fin"
      ],
      "execution_count": 7,
      "outputs": [
        {
          "output_type": "execute_result",
          "data": {
            "text/plain": [
              "0.1"
            ]
          },
          "metadata": {
            "tags": []
          },
          "execution_count": 7
        }
      ]
    },
    {
      "cell_type": "code",
      "metadata": {
        "colab": {
          "base_uri": "https://localhost:8080/"
        },
        "id": "Isgj-xjpXLGx",
        "outputId": "b3b4bcc2-e2da-42c9-93e8-09fde5a932c4"
      },
      "source": [
        "#Objetos N\n",
        "obj_n = entradas[1]; obj_n"
      ],
      "execution_count": 8,
      "outputs": [
        {
          "output_type": "execute_result",
          "data": {
            "text/plain": [
              "5"
            ]
          },
          "metadata": {
            "tags": []
          },
          "execution_count": 8
        }
      ]
    },
    {
      "cell_type": "code",
      "metadata": {
        "colab": {
          "base_uri": "https://localhost:8080/"
        },
        "id": "WL5-roULXRf4",
        "outputId": "420463c2-11fe-40a9-fb78-6310bf9555c4"
      },
      "source": [
        "#Capacidad de la mochila\n",
        "cap_moch = entradas[2]; cap_moch"
      ],
      "execution_count": 9,
      "outputs": [
        {
          "output_type": "execute_result",
          "data": {
            "text/plain": [
              "15"
            ]
          },
          "metadata": {
            "tags": []
          },
          "execution_count": 9
        }
      ]
    },
    {
      "cell_type": "code",
      "metadata": {
        "colab": {
          "base_uri": "https://localhost:8080/"
        },
        "id": "sPn4Kzh_XaVd",
        "outputId": "855f73cd-2031-4842-e500-8025f9a7e1a6"
      },
      "source": [
        "#Valor pi de cada objeto i\n",
        "val_pi = entradas[3]; val_pi"
      ],
      "execution_count": 10,
      "outputs": [
        {
          "output_type": "execute_result",
          "data": {
            "text/plain": [
              "[5, 14, 7, 2, 23]"
            ]
          },
          "metadata": {
            "tags": []
          },
          "execution_count": 10
        }
      ]
    },
    {
      "cell_type": "code",
      "metadata": {
        "colab": {
          "base_uri": "https://localhost:8080/"
        },
        "id": "PCd9V3ruZF8u",
        "outputId": "1f4db9f9-acbf-4f3c-cea9-cbcb4350f020"
      },
      "source": [
        "#Peso wi de cada objeto i\n",
        "peso_wi = entradas[4]; peso_wi"
      ],
      "execution_count": 11,
      "outputs": [
        {
          "output_type": "execute_result",
          "data": {
            "text/plain": [
              "[2, 3, 7, 5, 10]"
            ]
          },
          "metadata": {
            "tags": []
          },
          "execution_count": 11
        }
      ]
    },
    {
      "cell_type": "markdown",
      "metadata": {
        "id": "sh9En_ECatbw"
      },
      "source": [
        "#Generar solución inicial aleatoriamente"
      ]
    },
    {
      "cell_type": "code",
      "metadata": {
        "colab": {
          "base_uri": "https://localhost:8080/"
        },
        "id": "BDsVA_w7b4Ww",
        "outputId": "4f1897c0-9b84-40a1-f4fd-48e619778ad4"
      },
      "source": [
        "def sol_inicial(obj_n, cap_moch, val_pi, peso_wi):\n",
        "  sol = [0]*obj_n #Creando lista con la longitud de los objetos N. Como todavía no hay ningún objeto en la mochila, todos son 0.\n",
        "  valor = 0 #Valor de la solución inicial\n",
        "  peso = 0 #Peso de la solución inicial\n",
        "  ya_vis = [] #Lista donde voy a guardar los objetos i ya explorados, para evitar que se cicle infinitamente\n",
        "  obj_moch = [] #Lista donde van los objetos que pudieron entrar en la mochila\n",
        "\n",
        "  while peso < cap_moch and len(ya_vis) < len(sol): #Mientras el peso sea menor a la capacidad de la mochila y \n",
        "    ale = randrange(obj_n) #Generar un número aleatorio de 0 a n-1\n",
        "    while sol[ale] == 1: #Mientras el número generado ya esté en la mochila\n",
        "      ale = randrange(obj_n) #Generar un número aleatorio de 0 a n-1\n",
        "    else: #Si ese número generado no está en la mochila\n",
        "      if ale not in ya_vis: #Si ese número generado no se encuentra en la lista donde ya se exploraron los objetos i\n",
        "        peso += peso_wi[ale] #Sumarle el peso del objeto\n",
        "        if peso <= cap_moch: #Si la suma no excede la capacidad de la mochila\n",
        "          valor += val_pi[ale] #Sumar el valor del objeto\n",
        "          sol[ale] = 1 #Cambiar a 1 en la lista de longitud de los objetos N. Porque ese objeto ahora está dentro de la mochila\n",
        "          obj_moch.append(ale) #Insertar el objeto a la lista donde se encuentran los objetos que estarán en la mochila\n",
        "          ya_vis.append(ale) #Insertar el número generado\n",
        "        else: #Si la suma del peso con el objeto elegido supera la capacidad de la mochila\n",
        "          peso -= peso_wi[ale] #Restarle el peso del objeto\n",
        "          ya_vis.append(ale) #Insertar el objeto i, porque ya se sabe que no puede entrar en la mochila.\n",
        "\n",
        "  return obj_moch, sol, valor, peso\n",
        "\n",
        "sol_ini = sol_inicial(obj_n, cap_moch, val_pi, peso_wi); sol_ini"
      ],
      "execution_count": 12,
      "outputs": [
        {
          "output_type": "execute_result",
          "data": {
            "text/plain": [
              "([4, 0, 1], [1, 1, 0, 0, 1], 42, 15)"
            ]
          },
          "metadata": {
            "tags": []
          },
          "execution_count": 12
        }
      ]
    },
    {
      "cell_type": "markdown",
      "metadata": {
        "id": "O_N1HE1q7soY"
      },
      "source": [
        "#Generar vecindario"
      ]
    },
    {
      "cell_type": "code",
      "metadata": {
        "id": "ufXFfiLk2xwr"
      },
      "source": [
        "def vec(sol_ini, peso_wi, cap_moch):\n",
        "\n",
        "  copia_sol_bin_ini = sol_ini[1].copy() #Hago una copia de la permutación binaria\n",
        "  vecindario = [] #Lista vacía donde guardaré las soluciones factibles\n",
        "\n",
        "\n",
        "  for i in range(len(copia_sol_bin_ini)): #Recorrer la lista binaria\n",
        "    if sol_ini[1][i] == 1: #Si la solución inicial (Que en el código donde se junta todo será la mejor solución hasta ahora) en la lista binaria en la posición i es 1\n",
        "      copia_sol_bin_ini[i] = 0 #Cambiar su valor de 0 a 1\n",
        "    else:\n",
        "      copia_sol_bin_ini[i] = 1 #Cambiarlo a 1, porque su valor era 0\n",
        "\n",
        "    peso = 0\n",
        "    for p in range(len(copia_sol_bin_ini)): #Recorrer la nueva lista binaria, donde se cambio ya sea un 1 por 0 o 0 por 1\n",
        "      if copia_sol_bin_ini[p] == 1: #Si es uno, significa que está adentro de la mochila\n",
        "        peso += peso_wi[p] #Sumarle su peso al peso total (peso)\n",
        "      else:\n",
        "        None #Si es 0, pues no hagas nada xd\n",
        "\n",
        "    if 0 < peso <= cap_moch: #Si la mochila al menos tiene un objeto adentro, su peso es mayor a 0, y si su peso no supera la capacidad de la mochila, es factible\n",
        "      vecindario.append(copia_sol_bin_ini) #Insertar esa permutación binaria a la lista de los vecindarios\n",
        "      copia_sol_bin_ini = sol_ini[1].copy() #Regresar la copia de la lista binaria a la permutación original\n",
        "    else:\n",
        "      copia_sol_bin_ini = sol_ini[1].copy() #No jaló, toncs pues solo vuelve a ser la permutación original\n",
        "\n",
        "  return vecindario #Regresa el vecindario con las soluciones factibles"
      ],
      "execution_count": 13,
      "outputs": []
    },
    {
      "cell_type": "code",
      "metadata": {
        "colab": {
          "base_uri": "https://localhost:8080/"
        },
        "id": "KxvbXR6KGL7g",
        "outputId": "967509cc-89da-4f99-9191-ad2f8f5890e7"
      },
      "source": [
        "vecindario = vec(sol_ini, peso_wi, cap_moch); vecindario"
      ],
      "execution_count": 14,
      "outputs": [
        {
          "output_type": "execute_result",
          "data": {
            "text/plain": [
              "[[0, 1, 0, 0, 1], [1, 0, 0, 0, 1], [1, 1, 0, 0, 0]]"
            ]
          },
          "metadata": {
            "tags": []
          },
          "execution_count": 14
        }
      ]
    },
    {
      "cell_type": "markdown",
      "metadata": {
        "id": "hZBEm2JgH31U"
      },
      "source": [
        "#Escoger aleatoriamente solución dentro del vecindario"
      ]
    },
    {
      "cell_type": "code",
      "metadata": {
        "id": "rh3l-Jy3OuLq"
      },
      "source": [
        "def ale_vec(vecindario, val_pi, peso_wi, Tt, mejor_sol):\n",
        "  sele_ale = randrange(len(vecindario)) #Elegir un número entero que vaya de 0 a n-1. Para elegir alguna solución del vecindario de manera aleatoria\n",
        "\n",
        "  \n",
        "  #Conseguir el valor de los objetos que están dentro de la mochila\n",
        "  valor = 0\n",
        "  for v in range(len(vecindario[sele_ale])):\n",
        "      if vecindario[sele_ale][v] == 1:\n",
        "        valor += val_pi[v]\n",
        "      else:\n",
        "        None\n",
        "\n",
        "\n",
        "  #Peso en conjunto de los objetos en la mochila\n",
        "  peso_sele = 0\n",
        "  for pe in range(len(vecindario[sele_ale])):\n",
        "      if vecindario[sele_ale][pe] == 1:\n",
        "        peso_sele += peso_wi[pe]\n",
        "      else:\n",
        "        None\n",
        "\n",
        "\n",
        "  obj_moch = [] #Lista donde podrían estar los objetos que estarán en la mochila\n",
        "  if valor > sol_ini[2]: #Si el valor de esos objetos es mayor al mayor valor hasta ahora\n",
        "    for o in range(len(vecindario[sele_ale])): #Conseguir que objetos son, y meterlos a la lista\n",
        "      if vecindario[sele_ale][o] == 1:\n",
        "        obj_moch.append(o)\n",
        "      else:\n",
        "        None\n",
        "    mejor_sol = [obj_moch, vecindario[sele_ale], valor, peso_sele] #Actualizar la mejor solución\n",
        "  elif random.uniform(0, 1) < math.exp(-1.*(valor - sol_ini[2])/Tt): #Si el número random es menor que esa exponencial xd\n",
        "    for o in range(len(vecindario[sele_ale])): #Conseguir que objetos son, y meterlos a la lista\n",
        "      if vecindario[sele_ale][o] == 1:\n",
        "        obj_moch.append(o)\n",
        "      else:\n",
        "        None\n",
        "    mejor_sol = [obj_moch, vecindario[sele_ale], valor, peso_sele] #Actualizar la mejor solución\n",
        "  Tt *= 0.99 #Multiplicar la temperatura actual por 0.99, para ser actualizada\n",
        "\n",
        "  return mejor_sol"
      ],
      "execution_count": 15,
      "outputs": []
    },
    {
      "cell_type": "code",
      "metadata": {
        "colab": {
          "base_uri": "https://localhost:8080/"
        },
        "id": "zl0aHvSiQY0p",
        "outputId": "4e62e67b-c2d9-4247-eb88-e351f67a0d3d"
      },
      "source": [
        "ale_vec(vecindario, val_pi, peso_wi, tem_ini, sol_ini)"
      ],
      "execution_count": 16,
      "outputs": [
        {
          "output_type": "execute_result",
          "data": {
            "text/plain": [
              "[[0, 4], [1, 0, 0, 0, 1], 28, 12]"
            ]
          },
          "metadata": {
            "tags": []
          },
          "execution_count": 16
        }
      ]
    },
    {
      "cell_type": "markdown",
      "metadata": {
        "id": "oq0I82QwS1Wx"
      },
      "source": [
        "#Mientars Tt > Tf (Juntando los dos códigos de arriba)\n",
        "\n",
        "Ya no lo comento, porque todo se encuentra descrito arriba"
      ]
    },
    {
      "cell_type": "code",
      "metadata": {
        "colab": {
          "base_uri": "https://localhost:8080/"
        },
        "id": "dDF2gTu4RZj7",
        "outputId": "46312387-2c75-4c58-a1f2-b7357c34f567"
      },
      "source": [
        "def v(peso_wi, cap_moch, val_pi, Tt, Tf, mejor_sol):\n",
        "\n",
        "  while Tt > Tf: #Mientras la temperatura actual sea mayor a la temperatura final\n",
        "    copia_sol_bin_ini = mejor_sol[1].copy()\n",
        "    vecindario = []\n",
        "\n",
        "\n",
        "    for i in range(len(copia_sol_bin_ini)):\n",
        "      if mejor_sol[1][i] == 1:\n",
        "        copia_sol_bin_ini[i] = 0\n",
        "      else:\n",
        "        copia_sol_bin_ini[i] = 1\n",
        "\n",
        "      peso = 0\n",
        "      for p in range(len(copia_sol_bin_ini)):\n",
        "        if copia_sol_bin_ini[p] == 1:\n",
        "          peso += peso_wi[p]\n",
        "        else:\n",
        "          None\n",
        "\n",
        "      if 0 < peso <= cap_moch:\n",
        "        vecindario.append(copia_sol_bin_ini)\n",
        "        copia_sol_bin_ini = mejor_sol[1].copy()\n",
        "      else:\n",
        "        copia_sol_bin_ini = mejor_sol[1].copy()\n",
        "\n",
        "\n",
        "    sele_ale = randrange(len(vecindario))\n",
        "\n",
        "    \n",
        "    valor = 0\n",
        "    for v in range(len(vecindario[sele_ale])):\n",
        "        if vecindario[sele_ale][v] == 1:\n",
        "          valor += val_pi[v]\n",
        "        else:\n",
        "          None\n",
        "\n",
        "\n",
        "    peso_sele = 0\n",
        "    for pe in range(len(vecindario[sele_ale])):\n",
        "        if vecindario[sele_ale][pe] == 1:\n",
        "          peso_sele += peso_wi[pe]\n",
        "        else:\n",
        "          None\n",
        "\n",
        "\n",
        "    obj_moch = []\n",
        "    if valor > mejor_sol[2]:\n",
        "      for o in range(len(vecindario[sele_ale])):\n",
        "        if vecindario[sele_ale][o] == 1:\n",
        "          obj_moch.append(o)\n",
        "        else:\n",
        "          None\n",
        "      mejor_sol = [obj_moch, vecindario[sele_ale], valor, peso_sele]\n",
        "    elif random.uniform(0, 1) < math.exp(-1.*(valor - mejor_sol[2])/Tt):\n",
        "      for o in range(len(vecindario[sele_ale])):\n",
        "        if vecindario[sele_ale][o] == 1:\n",
        "          obj_moch.append(o)\n",
        "        else:\n",
        "          None\n",
        "      mejor_sol = [obj_moch, vecindario[sele_ale], valor, peso_sele]\n",
        "    else:\n",
        "      None\n",
        "    Tt *= 0.99\n",
        "\n",
        "  return mejor_sol\n",
        "\n",
        "v(peso_wi, cap_moch, val_pi, tem_ini, tem_fin, sol_ini)"
      ],
      "execution_count": 17,
      "outputs": [
        {
          "output_type": "execute_result",
          "data": {
            "text/plain": [
              "[[1, 4], [0, 1, 0, 0, 1], 37, 13]"
            ]
          },
          "metadata": {
            "tags": []
          },
          "execution_count": 17
        }
      ]
    },
    {
      "cell_type": "markdown",
      "metadata": {
        "id": "05tHebwjga1j"
      },
      "source": [
        "#Realización de las M ejecuciones\n",
        "\n",
        "Me disculpo si son inconsistentes los comentarios, hice rechicken de la práctica pasada, solo le realicé cambios minimos xd"
      ]
    },
    {
      "cell_type": "code",
      "metadata": {
        "colab": {
          "base_uri": "https://localhost:8080/"
        },
        "id": "3lR9oLSzg4E5",
        "outputId": "cf454d37-9a62-4786-a0e2-f81a0b975945"
      },
      "source": [
        "#Mejor solución encontrada en las M ejecuciones\n",
        "def mejor_sol_M(M):\n",
        "  bests = [v(peso_wi, cap_moch, val_pi, tem_ini, tem_fin, sol_ini) for _ in range(M)] #Correr M veces la función donde se obtiene la mejor mochila\n",
        "  \n",
        "\n",
        "  #Mejor y 'pior' solución\n",
        "  best = [] #Lista donde voy a guardar la mejor solución\n",
        "  worst = [] #Lista donde voy a guardar la peor solución\n",
        "  costes = [] #Lista donde voy a guardar los costos\n",
        "  for b in range(len(bests)): #Correr esto M veces\n",
        "    costes.append(bests[b][2]) #Meter en la lista de costes, el valor de la permutación en la posición b\n",
        "    #print(costes)\n",
        "  diccio = { i : costes[i] for i in range(0, len(costes) ) } #Diccionario de los valores\n",
        "  #print(diccio)\n",
        "  mejor_permu = max(diccio, key=diccio.get) #Obtener la llave de la permutación con mayor valor\n",
        "  pior_permu = min(diccio, key=diccio.get) #Obtener la llave de la permutación con menor valor\n",
        "  best.append(bests[mejor_permu]) #Agregar la mejor permutación con su valor\n",
        "  worst.append(bests[pior_permu]) #Agregar la pior permutación con su valor\n",
        "\n",
        "\n",
        "  #Mediana\n",
        "  elementos = [] #Lista donde se va a enumerar los números correspondiente a la longitud de M\n",
        "  mediana_permu = [] #Número o lista, dependiendo si es par o impar M\n",
        "  median = [] #Lista donde voy a guardar la o las mediana(s)\n",
        "  orden = sorted(diccio.items(), key=lambda x:x[1]) #Ordenar con respecto a los valores del diccionario\n",
        "  #print(orden)\n",
        "\n",
        "  for me in range(len(orden)): #Correr esto M veces\n",
        "    elementos.append(me) #Agregar de manera ascendente número de 0 a M\n",
        "\n",
        "  if len(elementos)%2 != 0: #Si es impar\n",
        "    per_med = np.median(np.array(elementos)) #Sacar la mediana\n",
        "    per_med = int(per_med) #Volverlo entero\n",
        "    mediana_permu = orden[per_med][0] #Obtener la llave que está en la posicón [per_med], o sea, la mediana\n",
        "    median.append(bests[mediana_permu]) #Agregar a la lista de la mediana la permutación, su valor y su peso\n",
        "  else: #Si es par\n",
        "    per_med = np.median(np.array(elementos)) #Sacar la mediana\n",
        "    per_med_izq = per_med//1 #Hacer piso. Este número va a corresponder a la mediana en la posición izquierda\n",
        "    per_med_izq = int(per_med_izq) #Convertir a entero\n",
        "    per_med_der = per_med+.5 #Sumarle .5 para que corresponda a la mediana de la posición derecha\n",
        "    per_med_der = int(per_med_der) #Volverlo entero\n",
        "    mediana_permu.append(orden[per_med_izq][0]) #Agregar a la lista la llave que está en la posicón [per_med_izq], o sea, la mediana izquierda\n",
        "    mediana_permu.append(orden[per_med_der][0]) #Hacer lo mismo pero con la mediana derecha\n",
        "    median.append(bests[mediana_permu[0]]) #Agregar a la lista de la mediana la permutación izquierda, su valor y su peso.\n",
        "    median.append(bests[mediana_permu[1]]) #Agregar a la lista de la mediana la permutación derecha, su valor y su peso.\n",
        "\n",
        "\n",
        "  #Media\n",
        "  mean_costs = [] #Lista donde voy a guardar los valores de cada permutación obtenida de las ejecuciones.\n",
        "\n",
        "  for mc in range(len(orden)): #Correr esto M veces\n",
        "    mean_costs.append(orden[mc][1]) #Agregar el valor en la posición [mc] a la lista\n",
        "\n",
        "  mean = sum(mean_costs)/len(mean_costs) #Sacar el promedio de los costos\n",
        "\n",
        "\n",
        "  #Desviación estándar\n",
        "  standard_deviation = statistics.stdev(mean_costs) #Desviacíon estándar de los costos de las M permutaciones\n",
        "\n",
        "\n",
        "  #Para que veas cada una de las ejecuciones, por si crees que te estoy chamaqueando :vvv\n",
        "  #print(bests,'\\n''Mejor solución: ', best,'\\n''Peor solución: ', worst,'\\n''Mediana(s): ', median,'\\n''Media: ', mean, '\\n''Desviación estándar: ', standard_deviation)\n",
        "  \n",
        "\n",
        "  print('Mejor solución: ', best,'\\n''Peor solución: ', worst,'\\n''Mediana(s): ', median,'\\n''Media: ', mean, '\\n''Desviación estándar: ', standard_deviation)\n",
        "\n",
        "\n",
        "mejor_sol_M(M)"
      ],
      "execution_count": 18,
      "outputs": [
        {
          "output_type": "stream",
          "text": [
            "Mejor solución:  [[[1, 4], [0, 1, 0, 0, 1], 37, 13]] \n",
            "Peor solución:  [[[0, 3], [1, 0, 0, 1, 0], 7, 7]] \n",
            "Mediana(s):  [[[1, 2], [0, 1, 1, 0, 0], 21, 10]] \n",
            "Media:  22.666666666666668 \n",
            "Desviación estándar:  9.886859966642595\n"
          ],
          "name": "stdout"
        }
      ]
    }
  ]
}