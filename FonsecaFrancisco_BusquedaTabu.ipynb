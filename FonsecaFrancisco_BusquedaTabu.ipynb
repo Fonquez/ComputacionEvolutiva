{
  "nbformat": 4,
  "nbformat_minor": 0,
  "metadata": {
    "colab": {
      "name": "FonsecaFrancisco_BusquedaTabu.ipynb",
      "provenance": [],
      "collapsed_sections": []
    },
    "kernelspec": {
      "name": "python3",
      "display_name": "Python 3"
    }
  },
  "cells": [
    {
      "cell_type": "code",
      "metadata": {
        "id": "fL2DlCNN-EKv"
      },
      "source": [
        "#Paqueterias necesarias para la realizacion de todo el códigatzo\r\n",
        "import numpy as np\r\n",
        "import math\r\n",
        "from copy import copy, deepcopy\r\n",
        "import random\r\n",
        "import statistics"
      ],
      "execution_count": 1,
      "outputs": []
    },
    {
      "cell_type": "markdown",
      "metadata": {
        "id": "AWYkOgwk9lRH"
      },
      "source": [
        "#Solo necesitas meter el txt en la celda de aquí abajo. \r\n",
        "(De favor, el txt debe estar como en el ejemplo de entrada en el manual de metaheuristica). Sino, te tocará meter las entradas a manita xd"
      ]
    },
    {
      "cell_type": "code",
      "metadata": {
        "id": "AOlCd2IH9kZ4"
      },
      "source": [
        "bt = \"/content/drive/MyDrive/Computo evolutivo/input.txt\""
      ],
      "execution_count": 2,
      "outputs": []
    },
    {
      "cell_type": "markdown",
      "metadata": {
        "id": "PFA__r6tz33a"
      },
      "source": [
        "#Poner el número de ejecuciones que deseas. En mi caso, le puse 6"
      ]
    },
    {
      "cell_type": "code",
      "metadata": {
        "id": "H9FXIN2vz8Mz"
      },
      "source": [
        "M = 6"
      ],
      "execution_count": 3,
      "outputs": []
    },
    {
      "cell_type": "markdown",
      "metadata": {
        "id": "xMkjJP62-QuJ"
      },
      "source": [
        "#Lector del txt, y organizador las entradas para poder ser compiladas en las funciones"
      ]
    },
    {
      "cell_type": "code",
      "metadata": {
        "id": "pmOoC-OZuWqg"
      },
      "source": [
        "def instancia_viajero(texto):\r\n",
        "  with open(texto) as f: #Abro el txt\r\n",
        "    contents = f.readlines() #Leo el contenido del mismo\r\n",
        "\r\n",
        "  cities = contents[0][:-1] #Agarro todo el texto de la primera fila, excepto por el salto de línea\r\n",
        "  cities = int(cities) #Tranformo de string a entero el número\r\n",
        "\r\n",
        "  iterations = contents[1][:-1] #Hago lo mismo que con cities, pero ahora en la segunda fila\r\n",
        "  iterations = int(iterations)\r\n",
        "\r\n",
        "  costs = [] #Creo una lista vacía, donde voy a ir metiendo los costos\r\n",
        "  ahsu = '' #Esta es la herramienta mágica :v\r\n",
        "  \r\n",
        "\r\n",
        "  for i in range(2,len(contents)): #Como las primeras dos líneas corresponden a entradas diferentes, empiezo en dos. Porque el contenido de aquí para abajo es de la entrada 3\r\n",
        "    if i < len(contents)-1: #Si todavía no llego a la última fila\r\n",
        "      for j in range(len(contents[i])): #Recorre la fila i\r\n",
        "        if contents[i][j] != ' ' and contents[i][j] != '\\n': #Si es diferente a un espacio o un salto de línea\r\n",
        "          ahsu += contents[i][j] #Añade ese texto a la herramienta mágica.\r\n",
        "        else:\r\n",
        "          ahsu = int(ahsu) #Convierte el texto a entero\r\n",
        "          costs.append(ahsu) #Metelo en la lista de costos\r\n",
        "          ahsu = '' #Vacía la herramienta mágica\r\n",
        "    else: #Si ya estás en la última fila.\r\n",
        "      ahsu = contents[i]  #La herramienta mágica toma todo el texto (número)\r\n",
        "      ahsu = int(ahsu) #Conviertelo a entero\r\n",
        "      costs.append(ahsu) #Agregalo a la lista de costos\r\n",
        "      ahsu = '' #Vacíalo y a mimir\r\n",
        "  \r\n",
        "  return cities, iterations, costs #Regresa las entradas(1, 2, 3)\r\n",
        "\r\n",
        "\r\n",
        "ins = instancia_viajero(bt)"
      ],
      "execution_count": 4,
      "outputs": []
    },
    {
      "cell_type": "code",
      "metadata": {
        "colab": {
          "base_uri": "https://localhost:8080/"
        },
        "id": "psI4O9a6-ooA",
        "outputId": "95711894-5825-4242-ecbc-887ecfb81665"
      },
      "source": [
        "#Ciudades, entrada 1\r\n",
        "ins[0]"
      ],
      "execution_count": 5,
      "outputs": [
        {
          "output_type": "execute_result",
          "data": {
            "text/plain": [
              "10"
            ]
          },
          "metadata": {
            "tags": []
          },
          "execution_count": 5
        }
      ]
    },
    {
      "cell_type": "code",
      "metadata": {
        "colab": {
          "base_uri": "https://localhost:8080/"
        },
        "id": "ZasVGTt5-rsn",
        "outputId": "2b4139f1-fca6-4778-8c70-a6ea030f6674"
      },
      "source": [
        "#Iteraciones, entrada 2\r\n",
        "ins[1]"
      ],
      "execution_count": 6,
      "outputs": [
        {
          "output_type": "execute_result",
          "data": {
            "text/plain": [
              "100"
            ]
          },
          "metadata": {
            "tags": []
          },
          "execution_count": 6
        }
      ]
    },
    {
      "cell_type": "code",
      "metadata": {
        "id": "t6xKkKfH-tgK"
      },
      "source": [
        "#Costos (se ve medio gacho en vertical, pero pues sirve xd). Por eso mejor lo comento, pero si quieres ver la lista de los pesos, solo quitale el hashtag (comentario)\r\n",
        "#Entrada 3\r\n",
        "\r\n",
        "#ins[2]"
      ],
      "execution_count": 7,
      "outputs": []
    },
    {
      "cell_type": "markdown",
      "metadata": {
        "id": "lEalvrTxcAAW"
      },
      "source": [
        "#Matriz simetrica con los costos de ir de una ciudad a otra"
      ]
    },
    {
      "cell_type": "code",
      "metadata": {
        "id": "EhzJ_oVaCs8n"
      },
      "source": [
        "def make_sym_matrix(n,vals): #n indica el número de ciudades, y vals la lista de los costos\r\n",
        "  m = np.zeros([n,n], dtype=np.double) # Genera una matriz de ceros de nxn, en este caso n = 10.\r\n",
        "  xs,ys = np.triu_indices(n,k=1)\r\n",
        "\r\n",
        "  #Las posiciones [i,r] y [r,i] tienen el mismo valor, porque busco generar una matriz simetrica\r\n",
        "  m[xs,ys] = vals \r\n",
        "  m[ys,xs] = vals\r\n",
        "\r\n",
        "  m[ np.diag_indices(n) ] = float('inf') #En la diagonal les doy un valor infinito, para así evitar elegir esas casillas. Porque, por ejemplo, no puede ir de la ciudad 0 a ella misma\r\n",
        "  return m #Regreso la matriz generada"
      ],
      "execution_count": 8,
      "outputs": []
    },
    {
      "cell_type": "code",
      "metadata": {
        "id": "ys18kB3IYJ-i"
      },
      "source": [
        "#Esta es la lista de los costos de ir de A ciudad a B ciudad, por eso atob... a to b :vvv\r\n",
        "#De haber leído la parte de los 20 puntos antes, me habría ahorrado esto :):\r\n",
        "\r\n",
        "#atob = [49, 30, 53, 72, 19, 76, 87, 45, 48, 19, 38, 32, 31, 75, 69, 61, 25, 41, 98, 56, 6, 6, 45, 53, 52, 29, 46, 90, 23, 98, 63, 90, 69, 50, 82, 60, 88, 41, 95, 61, 92, 10, 82, 73, 5]"
      ],
      "execution_count": 9,
      "outputs": []
    },
    {
      "cell_type": "code",
      "metadata": {
        "colab": {
          "base_uri": "https://localhost:8080/"
        },
        "id": "AYjA-lm2CmL-",
        "outputId": "02c3dff0-d691-4050-8569-af181f5e5705"
      },
      "source": [
        "#Aquí ya se puede ver como queda la matriz simetrica. Donde lo que está en el triangulo superior es lo mismo que en el triangulo inferior.\r\n",
        "kk = make_sym_matrix(ins[0], ins[2]); kk"
      ],
      "execution_count": 10,
      "outputs": [
        {
          "output_type": "execute_result",
          "data": {
            "text/plain": [
              "array([[inf, 49., 30., 53., 72., 19., 76., 87., 45., 48.],\n",
              "       [49., inf, 19., 38., 32., 31., 75., 69., 61., 25.],\n",
              "       [30., 19., inf, 41., 98., 56.,  6.,  6., 45., 53.],\n",
              "       [53., 38., 41., inf, 52., 29., 46., 90., 23., 98.],\n",
              "       [72., 32., 98., 52., inf, 63., 90., 69., 50., 82.],\n",
              "       [19., 31., 56., 29., 63., inf, 60., 88., 41., 95.],\n",
              "       [76., 75.,  6., 46., 90., 60., inf, 61., 92., 10.],\n",
              "       [87., 69.,  6., 90., 69., 88., 61., inf, 82., 73.],\n",
              "       [45., 61., 45., 23., 50., 41., 92., 82., inf,  5.],\n",
              "       [48., 25., 53., 98., 82., 95., 10., 73.,  5., inf]])"
            ]
          },
          "metadata": {
            "tags": []
          },
          "execution_count": 10
        }
      ]
    },
    {
      "cell_type": "markdown",
      "metadata": {
        "id": "Yepu6XapD7eE"
      },
      "source": [
        "#Generar solución inicial, usando greedy"
      ]
    },
    {
      "cell_type": "code",
      "metadata": {
        "colab": {
          "base_uri": "https://localhost:8080/"
        },
        "id": "_dDqnBeTJOVn",
        "outputId": "9261e5ad-f6a7-480c-9dab-9b8007252f61"
      },
      "source": [
        "def sol_inicial(redi):\r\n",
        "  ini = [] #Lista vacía, donde voy a guardar los costos del movimiento de una ciudad a otra\r\n",
        "  per = [] #Lista vacía donde voy a guardar el indice de esa ciudad\r\n",
        "  kha = deepcopy(redi) #Hago un deep copy de la matriz simetrica, por si la riego (Sí pasó, varias veces xd)\r\n",
        "  x = 0 #Esta es la herramienta mágica\r\n",
        "\r\n",
        "  for i in range(len(kha)): #Creo un for, donde voy a correrlo n veces, o sea, popr la cantidad de ciudades.\r\n",
        "    per.append(x) #Aquí meto de una la ciudad cero, porque siempre parto de ahí\r\n",
        "    if i != len(kha)-1: #Al final, la última ciudad no tiene de otra más que ir a cero, por eso para cuando eso pasa cree un else.\r\n",
        "      ini.append(kha[x].min()) #Agrego el valor mínimo de ir a la ciudad x a cualquier ciudad disponible a la lista.\r\n",
        "      #print(ini)\r\n",
        "      #print(x)\r\n",
        "      for j in range(len(kha)): #Toda la columna correspondiente a la ciudad x se vuelve infinito, porque no quiero que elijan esa ciudad, debido a que ya pasé por ahí\r\n",
        "        kha[j,x] = float('inf') # Le doy un valor de infinito\r\n",
        "        #print(kha)\r\n",
        "      x = np.where(kha[x]==kha[x].min()) #Ahora, agarro el indice de la ciudad. Por ejemplo, de la ciudad 0 va a 5, entonces ahora x = 5.\r\n",
        "      x = x[0][0] #Y con esto agarra únicamente el número, y no lo agarro como array. Esto me solucionó problemas que tenía.\r\n",
        "    else:\r\n",
        "      ini.append(kha[0].min()) #Si ya estoy en la última ciudad, simplemente voy a la fila 0, y le pongo el costo de ir de esa ciudad a 0.\r\n",
        "      #print(ini)\r\n",
        "  return per, sum(ini) #Regreso la permutación y la suma del costo de la permutación\r\n",
        "\r\n",
        "per_costo_inicial = sol_inicial(kk); per_costo_inicial"
      ],
      "execution_count": 11,
      "outputs": [
        {
          "output_type": "execute_result",
          "data": {
            "text/plain": [
              "([0, 5, 3, 8, 9, 6, 2, 7, 1, 4], 271.0)"
            ]
          },
          "metadata": {
            "tags": []
          },
          "execution_count": 11
        }
      ]
    },
    {
      "cell_type": "markdown",
      "metadata": {
        "id": "EUUjTq6sOTha"
      },
      "source": [
        "#Generar vecindarios, lista tabu, iteraciones y regresar la permutación de menor costo, con el valor del costo"
      ]
    },
    {
      "cell_type": "code",
      "metadata": {
        "colab": {
          "base_uri": "https://localhost:8080/"
        },
        "id": "-GgJQxk4G0Px",
        "outputId": "c7b157f4-ca82-427e-fb26-75f043af3e31"
      },
      "source": [
        "permutacion = per_costo_inicial[0]; permutacion"
      ],
      "execution_count": 12,
      "outputs": [
        {
          "output_type": "execute_result",
          "data": {
            "text/plain": [
              "[0, 5, 3, 8, 9, 6, 2, 7, 1, 4]"
            ]
          },
          "metadata": {
            "tags": []
          },
          "execution_count": 12
        }
      ]
    },
    {
      "cell_type": "code",
      "metadata": {
        "colab": {
          "base_uri": "https://localhost:8080/"
        },
        "id": "JImVA6EPI3HB",
        "outputId": "567b4f38-1aff-42fa-c030-4e415b318bac"
      },
      "source": [
        "costo = per_costo_inicial[1]; costo"
      ],
      "execution_count": 13,
      "outputs": [
        {
          "output_type": "execute_result",
          "data": {
            "text/plain": [
              "271.0"
            ]
          },
          "metadata": {
            "tags": []
          },
          "execution_count": 13
        }
      ]
    },
    {
      "cell_type": "code",
      "metadata": {
        "id": "iFwisSC2pR8_"
      },
      "source": [
        "def iteraciones(n, ite, p, c): #n = número de ciudades, ite = número de iteraciones, p = permutación greedy, c = costo de la permutación greedy\r\n",
        "\r\n",
        "  tabu = [] #Lista tabu, empieza estando vacía, por obvias razones jaja\r\n",
        "  mejor_p = p #La mejor permutación empieza siendo la generada por greedy\r\n",
        "  mejor_c = c #Y aquí el costo de dicha permutación\r\n",
        "\r\n",
        "  while ite > 0:\r\n",
        "    #print(p)\r\n",
        "    dictOfPer = { i : p[i] for i in range(0, len(p) ) } #Genero un diccionario donde cada ciudad tiene su indice en la permutación original\r\n",
        "    #print(dictOfPer)\r\n",
        "    copia_dictOfPer = dictOfPer.copy() #Le hago una copia\r\n",
        "\r\n",
        "    if len(copia_dictOfPer) == n: #Ya con la copia hecha, elimino la ciudad 0, porque esa no se mueve.\r\n",
        "      del  copia_dictOfPer[0]\r\n",
        "      azar = random.choice(list(copia_dictOfPer.values())) #Elijo la ciudad random.\r\n",
        "    else: #Y si ya está eliminada, pues solo sigo eligiendo la ciudad random a cambiar de posición en la iteración\r\n",
        "      azar = random.choice(list(copia_dictOfPer.values()))\r\n",
        "    #print(azar)\r\n",
        "    \r\n",
        "\r\n",
        "    for i in range(len(dictOfPer)): #Va a correr esto n veces\r\n",
        "      if dictOfPer[i] == azar: #Si el valor del diccionario en la posición i es igualigual a azar(ciudad random elegida), entonces entro.\r\n",
        "        tabu.append([i,azar]) #Aquí inserto a la lista tabu la llave y la ciudad.\r\n",
        "        tabu.append(n+2//2) #Le pongo n+2, porque sin siquiera hacer una permutación nueva ya le quito 1 al tiempo tabu.\r\n",
        "                            #Inserto el tiempo tabu, seguido de la lista con [llave, ciudad]\r\n",
        "\r\n",
        "\r\n",
        "    #Vecindarios\r\n",
        "    vecindario = []\r\n",
        "    for i in range(len(p)): #Voy a correr n veces esto.\r\n",
        "      if i != 0 and i != tabu[-2][0]: #Aquí debe ser diferente de i = 0 e i = ciudad random. Porque no quiero generar permutación donde la ciudad random se cambie con la ciudad 0\r\n",
        "        popis = dictOfPer.copy()                                                             #y tampoco donde la ciudad random se cambie con ella misma, sería la misma permutación\r\n",
        "        popis[i], popis[tabu[-2][0]] = popis[tabu[-2][0]], popis[i] #Cambio la ciudad random con la ciudad en la llave i.\r\n",
        "        vecindario.append(list(popis.values())) #Hago append al vecindario con el diccionario en forma de lista, para solo tener en vecindario las n-2 permutaciones\r\n",
        "\r\n",
        "\r\n",
        "    #Costos de las permutaciones del vecindario\r\n",
        "    vec_costos = []\r\n",
        "    for i in range(len(vecindario)): #Va a correr esto n-2 veces\r\n",
        "      suma = 0\r\n",
        "      for j in range(len(vecindario[i])): #Ahora lo correrá n veces\r\n",
        "        if j < len(vecindario[i])-1: #Si todavía no llego a la última ciudad, corre esto\r\n",
        "          suma += kk[vecindario[i][j]][vecindario[i][j+1]] #Entra a la matriz, y sumale el costo de ir de la ciudad j a la ciudad j+1\r\n",
        "        else:\r\n",
        "          suma += kk[0][vecindario[i][j]] #Si ya estoy en la última ciudad, sumale el costo de ir de la ciudad j a la ciudad 0\r\n",
        "      vec_costos.append(suma) #Mete en la lista la suma del costo de la permutación en vecindario[i]\r\n",
        "\r\n",
        "\r\n",
        "    #Descartar permutaciones que no son posibles, por tener ciudades en la lista tabu que no pueden estar en ciertas zonas de la permutación\r\n",
        "    for v in range(len(vec_costos)): #Corro esto n-2 veces\r\n",
        "      for tb in range(0,len(tabu),2): #Como tengo la lista con [llave, ciudad] seguida de su tiempo tabu, entonces quiero solo agarrar lo que se encuentra en [llave, ciudad]\r\n",
        "        nueva = { i : vec_costos[i] for i in range(0, len(vec_costos) ) } #Genero un diccionario de los costos.                                     #por eso tb da salto de 2.\r\n",
        "        if tabu[tb][1] == vecindario[min(nueva, key=nueva.get)][tabu[tb][0]]: #Si tabu[ciudad] es igualigual a vecindario[permutacion de costo minimo][llave]\r\n",
        "          vec_costos[min(nueva, key=nueva.get)] = float('inf')  #Poner infinito como coste de esa permutación. Porque no está disponible para elegir,\r\n",
        "                                                                                                              #debido a que una ciudad en esa posición se encuentra en la lista tabu\r\n",
        "\r\n",
        "    #Vecindario con coste minimo\r\n",
        "    menor_costo = min(nueva, key=nueva.get) #Agarro la llave del menor costo\r\n",
        "\r\n",
        "    #Nueva permutación\r\n",
        "    p = vecindario[menor_costo] #Elijo la permutación que corresponde al menor costo\r\n",
        "\r\n",
        "    #Costo de la permutacion\r\n",
        "    m = min(vec_costos) #Elijo el menor costo, el cual corresponde a la permutación elegida\r\n",
        "\r\n",
        "    #Mejor permutacion hasta ahora\r\n",
        "    if mejor_c > m: #Si el costo de la permutación nueva es menor a la mejor hasta ahora\r\n",
        "      mejor_c = m #El menor coste hasta ahora es el nuevo costo.\r\n",
        "      mejor_p = p #La mejor permutación hasta ahora, es la nueva permutación\r\n",
        "\r\n",
        "    #Tiempo tabu\r\n",
        "    if len(tabu) > 0: #Si tabu no es vacía\r\n",
        "      for t in range(1,len(tabu),2): #Recorrer la lista tabu, empezando en 1 (Porque en las posiciones impar se encuentra su tiempo tabu) y dando saltos de 2 por lo mencionado en los parentesis\r\n",
        "        tabu[t] = tabu[t] - 1 #Restarle 1 a su tiempo tabu\r\n",
        "    if tabu[1] == 0: #Como no pueden entrar dos tiempos tabu al mismo tiempo, siempre el que está adelante es el de menor tiempo, y por ende si su tiempo = 0\r\n",
        "      tabu.remove(tabu[1]) #Eliminar el tiempo tabu\r\n",
        "      tabu.remove(tabu[0]) #Eliminar  la llave y su ciudad\r\n",
        "\r\n",
        "\r\n",
        "    ite -= 1 #Como esto cuenta como una iteración, le resto 1 cada que termina\r\n",
        "    #print(p)\r\n",
        "    #print(m)\r\n",
        "    #print(tabu)\r\n",
        "  return mejor_p, mejor_c #Regreso la mejor permutación y su costo en las 'ite' iteraciones\r\n",
        "\r\n",
        "#Si quieres modificar el número de iteraciones que vienen en el txt, cambia ins[1] por las iteraciones deseadas\r\n",
        "#iteraciones(ins[0],ins[1],permutacion,costo)"
      ],
      "execution_count": 14,
      "outputs": []
    },
    {
      "cell_type": "markdown",
      "metadata": {
        "id": "uISQsGTLzvxQ"
      },
      "source": [
        "#Realización de las M ejecuciones"
      ]
    },
    {
      "cell_type": "code",
      "metadata": {
        "colab": {
          "base_uri": "https://localhost:8080/"
        },
        "id": "vmbCnbYtLjnD",
        "outputId": "22fc1b29-b763-43e7-e259-142272eb6e31"
      },
      "source": [
        "#Mejor solución encontrada en las M ejecuciones\r\n",
        "def mejor_sol_M(M):\r\n",
        "  bests = [iteraciones(ins[0],ins[1],permutacion,costo) for _ in range(M)] #Correr M veces la función donde se obtiene la mejor permutación y su costo despues de i iteraciones\r\n",
        "  \r\n",
        "\r\n",
        "  #Mejor y 'pior' solución\r\n",
        "  best = [] #Lista donde voy a guardar la mejor solución\r\n",
        "  worst = [] #Lista donde voy a guardar la peor solución\r\n",
        "  costes = [] #Lista donde voy a guardar los costos\r\n",
        "  for b in range(len(bests)): #Correr esto M veces\r\n",
        "    costes.append(bests[b][1]) #Meter en la lista de costes, el costo de la permutación en la posición b\r\n",
        "    #print(costes)\r\n",
        "  diccio = { i : costes[i] for i in range(0, len(costes) ) } #Diccionario de los costes\r\n",
        "  #print(diccio)\r\n",
        "  mejor_permu = min(diccio, key=diccio.get) #Obtener la llave de la permutación con menor costo\r\n",
        "  pior_permu = max(diccio, key=diccio.get) #Obtener la llave de la permutación con mayor costo\r\n",
        "  best.append(bests[mejor_permu]) #Agregar la mejor permutación con su costo\r\n",
        "  worst.append(bests[pior_permu]) #Agregar la pior permutación con su costo\r\n",
        "\r\n",
        "\r\n",
        "  #Mediana\r\n",
        "  elementos = [] #Lista donde se va a enumerar los números correspondiente a la longitud de M\r\n",
        "  mediana_permu = [] #Número o lista, dependiendo si es par o impar M\r\n",
        "  median = [] #Lista donde voy a guardar la o las mediana(s)\r\n",
        "  orden = sorted(diccio.items(), key=lambda x:x[1]) #Ordenar con respecto a los valores del diccionario\r\n",
        "\r\n",
        "  for me in range(len(orden)): #Correr esto M veces\r\n",
        "    elementos.append(me) #Agregar de manera ascendente número de 0 a M\r\n",
        "\r\n",
        "  if len(elementos)%2 != 0: #Si es impar\r\n",
        "    per_med = np.median(np.array(elementos)) #Sacar la mediana\r\n",
        "    per_med = int(per_med) #Volverlo entero\r\n",
        "    mediana_permu = orden[per_med][0] #Obtener la llave que está en la posicón [per_med], o sea, la mediana\r\n",
        "    median.append(bests[mediana_permu]) #Agregar a la lista de la mediana la permutación y su costo\r\n",
        "  else: #Si es par\r\n",
        "    per_med = np.median(np.array(elementos)) #Sacar la mediana\r\n",
        "    per_med_izq = per_med//1 #Hacer piso. Este número va a corresponder a la mediana en la posición izquierda\r\n",
        "    per_med_izq = int(per_med_izq) #Convertir a entero\r\n",
        "    per_med_der = per_med+.5 #Sumarle .5 para que corresponda a la mediana de la posición derecha\r\n",
        "    per_med_der = int(per_med_der) #Volverlo entero\r\n",
        "    mediana_permu.append(orden[per_med_izq][0]) #Agregar a la lista la llave que está en la posicón [per_med_izq], o sea, la mediana izquierda\r\n",
        "    mediana_permu.append(orden[per_med_der][0]) #Hacer lo mismo pero con la mediana derecha\r\n",
        "    median.append(bests[mediana_permu[0]]) #Agregar a la lista de la mediana la permutación izquierda y su costo.\r\n",
        "    median.append(bests[mediana_permu[1]]) #Agregar a la lista de la mediana la permutación derecha y su costo.\r\n",
        "\r\n",
        "\r\n",
        "  #Media\r\n",
        "  mean_costs = [] #Lista donde voy a guardar los costos de cada permutación obtenida de las ejecuciones.\r\n",
        "\r\n",
        "  for mc in range(len(orden)): #Correr esto M veces\r\n",
        "    mean_costs.append(orden[mc][1]) #Agregar el costo en la posición [mc] a la lista\r\n",
        "\r\n",
        "  mean = sum(mean_costs)/len(mean_costs) #Sacar el promedio de los costos\r\n",
        "\r\n",
        "\r\n",
        "  #Desviación estándar\r\n",
        "  standard_deviation = statistics.stdev(mean_costs) #Desviacíon estándar de los costos de las M permutaciones\r\n",
        "\r\n",
        "\r\n",
        "  #Para que veas cada una de las ejecuciones, por si crees que te estoy chamaqueando :vvv\r\n",
        "  #print(bests,'\\n''Mejor solución: ', best,'\\n''Peor solución: ', worst,'\\n''Mediana(s): ', median,'\\n''Media: ', mean, '\\n''Desviación estándar: ', standard_deviation)\r\n",
        "  \r\n",
        "\r\n",
        "  print('Mejor solución: ', best,'\\n''Peor solución: ', worst,'\\n''Mediana(s): ', median,'\\n''Media: ', mean, '\\n''Desviación estándar: ', standard_deviation)\r\n",
        "\r\n",
        "\r\n",
        "mejor_sol_M(M)"
      ],
      "execution_count": 37,
      "outputs": [
        {
          "output_type": "stream",
          "text": [
            "Mejor solución:  [([0, 1, 4, 7, 2, 6, 9, 8, 3, 5], 248.0)] \n",
            "Peor solución:  [([0, 5, 3, 8, 9, 6, 2, 7, 1, 4], 271.0)] \n",
            "Mediana(s):  [([0, 2, 7, 6, 9, 8, 3, 4, 1, 5], 269.0), ([0, 5, 3, 8, 9, 6, 2, 7, 1, 4], 271.0)] \n",
            "Media:  263.0 \n",
            "Desviación estándar:  11.64474130240771\n"
          ],
          "name": "stdout"
        }
      ]
    }
  ]
}