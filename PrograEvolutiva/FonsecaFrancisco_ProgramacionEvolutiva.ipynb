{
  "nbformat": 4,
  "nbformat_minor": 0,
  "metadata": {
    "colab": {
      "name": "FonsecaFrancisco_ProgramacionEvolutiva.ipynb",
      "provenance": [],
      "collapsed_sections": []
    },
    "kernelspec": {
      "name": "python3",
      "display_name": "Python 3"
    },
    "language_info": {
      "name": "python"
    }
  },
  "cells": [
    {
      "cell_type": "code",
      "metadata": {
        "id": "pN_ZHRodiBh-"
      },
      "source": [
        "#Paqueterias necesarias para la realizacion de todo el códigatzo\n",
        "import numpy as np\n",
        "import math\n",
        "from copy import copy\n",
        "import random\n",
        "import statistics\n",
        "from random import randrange"
      ],
      "execution_count": 1,
      "outputs": []
    },
    {
      "cell_type": "markdown",
      "metadata": {
        "id": "tNQdry4UHIN1"
      },
      "source": [
        "#Archivos de texto que fueron utilizados. Y en todos los valores se mantienen igual, exceptuando las variables de decisión"
      ]
    },
    {
      "cell_type": "code",
      "metadata": {
        "id": "qYX_adFnjmv-"
      },
      "source": [
        "pe = '/content/drive/MyDrive/ComputoEvolutivo/PrograEvolutiva/entrada.txt'\n",
        "pe_cinco = '/content/drive/MyDrive/ComputoEvolutivo/PrograEvolutiva/entrada_5.txt'\n",
        "pe_diez = '/content/drive/MyDrive/ComputoEvolutivo/PrograEvolutiva/entrada_10.txt'\n",
        "pe_veinte = '/content/drive/MyDrive/ComputoEvolutivo/PrograEvolutiva/entrada_20.txt'"
      ],
      "execution_count": 2,
      "outputs": []
    },
    {
      "cell_type": "markdown",
      "metadata": {
        "id": "gla5I82qIOWO"
      },
      "source": [
        "#Poner el número de ejecuciones que deseas."
      ]
    },
    {
      "cell_type": "code",
      "metadata": {
        "id": "GeoBP0w8INPg"
      },
      "source": [
        "M = 7"
      ],
      "execution_count": 3,
      "outputs": []
    },
    {
      "cell_type": "markdown",
      "metadata": {
        "id": "gxydC-paW7B4"
      },
      "source": [
        "#Lector del txt, y organizador las entradas para poder ser compiladas en las funciones\n",
        "\n",
        "Se asume que las variables de decisión, el tamaño de la población y el número máximo de generaciones, son enteros."
      ]
    },
    {
      "cell_type": "code",
      "metadata": {
        "id": "quinObCfj3v0"
      },
      "source": [
        "def progra_evol(texto):\n",
        "  with open(texto) as f:\n",
        "    contents = f.readlines() \n",
        "\n",
        "  vari = contents[0][:-1]\n",
        "  vari = float(vari) \n",
        "\n",
        "  \n",
        "  costs = [] \n",
        "  ahsu = '' \n",
        "  \n",
        "  if contents[-1][-1] != '\\n': \n",
        "    contents[-1] += '\\n'\n",
        "\n",
        "  for i in range(1,len(contents)): \n",
        "    for j in range(len(contents[i])): \n",
        "      if contents[i][j] != ' ' and contents[i][j] != '\\n': \n",
        "        ahsu += contents[i][j] \n",
        "      else:\n",
        "        ahsu = float(ahsu) \n",
        "        costs.append(ahsu) \n",
        "        ahsu = '' \n",
        "  \n",
        "  \n",
        "  return vari, costs"
      ],
      "execution_count": 4,
      "outputs": []
    },
    {
      "cell_type": "code",
      "metadata": {
        "colab": {
          "base_uri": "https://localhost:8080/"
        },
        "id": "CqOC-q7pkUtA",
        "outputId": "d9d9bc2b-e5a7-41a7-ad54-4bad7cdc0fd2"
      },
      "source": [
        "ins = progra_evol(pe); ins"
      ],
      "execution_count": 5,
      "outputs": [
        {
          "output_type": "execute_result",
          "data": {
            "text/plain": [
              "(2.0, [100.0, 200.0, 2.0, 0.0001])"
            ]
          },
          "metadata": {
            "tags": []
          },
          "execution_count": 5
        }
      ]
    },
    {
      "cell_type": "code",
      "metadata": {
        "colab": {
          "base_uri": "https://localhost:8080/"
        },
        "id": "JKOnIpFWn7Si",
        "outputId": "36b4c3b7-3c37-40f3-c707-ec4930ba5b20"
      },
      "source": [
        "#Variables que tendrá la función de Ackley n\n",
        "n = int(ins[0]); n"
      ],
      "execution_count": 6,
      "outputs": [
        {
          "output_type": "execute_result",
          "data": {
            "text/plain": [
              "2"
            ]
          },
          "metadata": {
            "tags": []
          },
          "execution_count": 6
        }
      ]
    },
    {
      "cell_type": "code",
      "metadata": {
        "colab": {
          "base_uri": "https://localhost:8080/"
        },
        "id": "5LVXwUNIoLmd",
        "outputId": "08516153-c85f-4c23-9b1a-3604679682db"
      },
      "source": [
        "#Tamaño de la población\n",
        "tam_pob = int(ins[1][0]); tam_pob"
      ],
      "execution_count": 7,
      "outputs": [
        {
          "output_type": "execute_result",
          "data": {
            "text/plain": [
              "100"
            ]
          },
          "metadata": {
            "tags": []
          },
          "execution_count": 7
        }
      ]
    },
    {
      "cell_type": "code",
      "metadata": {
        "colab": {
          "base_uri": "https://localhost:8080/"
        },
        "id": "9besPxLfoWk4",
        "outputId": "991267a1-a477-470e-8cf8-844d5032dfbd"
      },
      "source": [
        "#Número máximo de generaciones\n",
        "gen_max = int(ins[1][1]); gen_max"
      ],
      "execution_count": 8,
      "outputs": [
        {
          "output_type": "execute_result",
          "data": {
            "text/plain": [
              "200"
            ]
          },
          "metadata": {
            "tags": []
          },
          "execution_count": 8
        }
      ]
    },
    {
      "cell_type": "code",
      "metadata": {
        "colab": {
          "base_uri": "https://localhost:8080/"
        },
        "id": "7D2RdnGaodz4",
        "outputId": "07c507bc-b66a-4e12-a639-7a3cfca4d3bf"
      },
      "source": [
        "#Alpha\n",
        "alpha = ins[1][2]; alpha"
      ],
      "execution_count": 9,
      "outputs": [
        {
          "output_type": "execute_result",
          "data": {
            "text/plain": [
              "2.0"
            ]
          },
          "metadata": {
            "tags": []
          },
          "execution_count": 9
        }
      ]
    },
    {
      "cell_type": "code",
      "metadata": {
        "colab": {
          "base_uri": "https://localhost:8080/"
        },
        "id": "a0BUv99Mohko",
        "outputId": "eb0f5092-0d15-4a30-ce9a-22fa9f6da6bb"
      },
      "source": [
        "#Epsilon\n",
        "epsilon = ins[1][3]; epsilon"
      ],
      "execution_count": 10,
      "outputs": [
        {
          "output_type": "execute_result",
          "data": {
            "text/plain": [
              "0.0001"
            ]
          },
          "metadata": {
            "tags": []
          },
          "execution_count": 10
        }
      ]
    },
    {
      "cell_type": "markdown",
      "metadata": {
        "id": "S9YalbEbrmVF"
      },
      "source": [
        "#Función de Ackley"
      ]
    },
    {
      "cell_type": "code",
      "metadata": {
        "id": "Hy_qDGrlt9Jn"
      },
      "source": [
        "def f(x):\n",
        "  n = len(x)\n",
        "\n",
        "  term_one = -20*math.exp(-0.2*math.sqrt((1/n)*sum(x_i**2 for x_i in x)))\n",
        "  term_two = -math.exp((1/n)*sum(math.cos(2*math.pi*x_i) for x_i in x))\n",
        "\n",
        "  return term_one + term_two + 20 + math.e"
      ],
      "execution_count": 11,
      "outputs": []
    },
    {
      "cell_type": "code",
      "metadata": {
        "colab": {
          "base_uri": "https://localhost:8080/"
        },
        "id": "Hqjut-EGwN6N",
        "outputId": "9d8ccc73-8509-4f12-99b6-281dedaedfc7"
      },
      "source": [
        "caliz = f([0,0]); caliz #Prácticamente es cero usando su mínimo global, entonces está bien hecho B)"
      ],
      "execution_count": 12,
      "outputs": [
        {
          "output_type": "execute_result",
          "data": {
            "text/plain": [
              "4.440892098500626e-16"
            ]
          },
          "metadata": {
            "tags": []
          },
          "execution_count": 12
        }
      ]
    },
    {
      "cell_type": "markdown",
      "metadata": {
        "id": "Zw-UZuVKzOWa"
      },
      "source": [
        "#Población inicial"
      ]
    },
    {
      "cell_type": "code",
      "metadata": {
        "id": "t31pWELRzR2o"
      },
      "source": [
        "def pob_ini(pob, var):\n",
        "  gfecitos = []\n",
        "  for i in range(pob):\n",
        "    var_dec = np.random.uniform(-30,30,var)\n",
        "    tam_paso = np.random.uniform(0,1,var)\n",
        "    p = np.concatenate((var_dec, tam_paso), axis = 0)\n",
        "    p = [p, f(var_dec)]\n",
        "    gfecitos.append(p)\n",
        "\n",
        "\n",
        "  return gfecitos"
      ],
      "execution_count": 13,
      "outputs": []
    },
    {
      "cell_type": "code",
      "metadata": {
        "colab": {
          "base_uri": "https://localhost:8080/"
        },
        "id": "B_MmSOlz1Cpv",
        "outputId": "3b81b070-837b-409a-d6e0-c6cdcba4ed5d"
      },
      "source": [
        "pob_ini(tam_pob, n)[0:6] #Decido mostrar los primeros 6 individuos para no saturar."
      ],
      "execution_count": 14,
      "outputs": [
        {
          "output_type": "execute_result",
          "data": {
            "text/plain": [
              "[[array([ 12.71467302, -22.04420103,   0.80298436,   0.69694666]),\n",
              "  20.722368790896514],\n",
              " [array([  7.68725949, -20.12841916,   0.98427575,   0.53046422]),\n",
              "  20.602070984761166],\n",
              " [array([13.72036178, -4.80421792,  0.46067847,  0.41597316]),\n",
              "  19.081312491062853],\n",
              " [array([-9.64061711, 28.64173943,  0.39066199,  0.69156464]),\n",
              "  21.90803331405144],\n",
              " [array([  3.82501433, -17.71876442,   0.62748743,   0.15172134]),\n",
              "  20.039342850789684],\n",
              " [array([-21.86592667,  -8.25609162,   0.23656394,   0.77420088]),\n",
              "  20.616106479582236]]"
            ]
          },
          "metadata": {
            "tags": []
          },
          "execution_count": 14
        }
      ]
    },
    {
      "cell_type": "markdown",
      "metadata": {
        "id": "YHrvdj4f5bJq"
      },
      "source": [
        "#Mutación"
      ]
    },
    {
      "cell_type": "code",
      "metadata": {
        "id": "mjn6zKym5cqF"
      },
      "source": [
        "def mutacion(i, var, alpha, epsilon):\n",
        "  sigma_mut = i[var:]*(1+(alpha*np.random.normal(0,1,var)))\n",
        "  sigma_mut[sigma_mut < epsilon] = epsilon\n",
        "\n",
        "  x_mut = i[:var]+sigma_mut*np.random.normal(0,1,var)\n",
        "\n",
        "  #Si se sale de alguno de los límites, vuelvete igual al límite más cercano (Esto me parece la opción más sencilla, por eso la elegí)\n",
        "  x_mut[x_mut < -30] = -30\n",
        "  x_mut[x_mut > 30] = 30\n",
        "\n",
        "  return [np.concatenate((x_mut, sigma_mut), axis=0), f(x_mut)]"
      ],
      "execution_count": 15,
      "outputs": []
    },
    {
      "cell_type": "code",
      "metadata": {
        "colab": {
          "base_uri": "https://localhost:8080/"
        },
        "id": "hri2z0xZ83dQ",
        "outputId": "e083fc13-10ee-407f-adeb-e4adf9bff97f"
      },
      "source": [
        "individuo = pob_ini(tam_pob,n)[0][0] #Tomando al primer individuo para realizar la prueba\n",
        "print(individuo)\n",
        "cria = mutacion(individuo, n, alpha, epsilon); cria #Sí jaló, SIU "
      ],
      "execution_count": 16,
      "outputs": [
        {
          "output_type": "stream",
          "text": [
            "[-16.66644263 -25.53677909   0.50684377   0.0570194 ]\n"
          ],
          "name": "stdout"
        },
        {
          "output_type": "execute_result",
          "data": {
            "text/plain": [
              "[array([-15.18214069, -25.24778145,   1.18869797,   0.25303367]),\n",
              " 21.169805367565903]"
            ]
          },
          "metadata": {
            "tags": []
          },
          "execution_count": 16
        }
      ]
    },
    {
      "cell_type": "markdown",
      "metadata": {
        "id": "5G02r7X8_vNS"
      },
      "source": [
        "#Juntar todo el chou"
      ]
    },
    {
      "cell_type": "code",
      "metadata": {
        "id": "GUHrXKY4_72Y"
      },
      "source": [
        "def programacion_evolutiva(pob,var,gens,alpha,epsilon):\n",
        "    gfecitos = pob_ini(pob,var)\n",
        "\n",
        "    for t in range(gens):\n",
        "      next_gen = gfecitos.copy()\n",
        "      for gfe in gfecitos:\n",
        "          cria = mutacion(gfe[0],var,alpha,epsilon)\n",
        "          next_gen.append(cria)\n",
        "          \n",
        "      next_gen = sorted(next_gen, key = lambda indi:indi[-1])\n",
        "      next_gen = next_gen[:pob]\n",
        "\n",
        "      gfecitos = next_gen.copy()\n",
        "\n",
        "    return gfecitos[-1]"
      ],
      "execution_count": 17,
      "outputs": []
    },
    {
      "cell_type": "code",
      "metadata": {
        "colab": {
          "base_uri": "https://localhost:8080/"
        },
        "id": "wjLu8eclCupR",
        "outputId": "2463e380-0167-4541-ce9b-fb39a550037c"
      },
      "source": [
        "print(programacion_evolutiva(tam_pob,n,gen_max,alpha,epsilon)[0][0:2])\n",
        "print('f(x) = ',programacion_evolutiva(tam_pob,n,gen_max,alpha,epsilon)[1])"
      ],
      "execution_count": 18,
      "outputs": [
        {
          "output_type": "stream",
          "text": [
            "[ 6.49952971e-06 -1.58128043e-05]\n",
            "f(x) =  5.1191994718369216e-05\n"
          ],
          "name": "stdout"
        }
      ]
    },
    {
      "cell_type": "markdown",
      "metadata": {
        "id": "X4a0f_7FX6QS"
      },
      "source": [
        "#Realización de las M ejecuciones\n",
        "\n",
        "Me disculpo si son inconsistentes los comentarios, hice rechicken de la práctica pasada, solo le realicé cambios minimos xd"
      ]
    },
    {
      "cell_type": "code",
      "metadata": {
        "id": "JEV0kuZoI3lq"
      },
      "source": [
        "#Mejor solución encontrada en las M ejecuciones\n",
        "def mejor_sol_M(M,pob,var,gens,alpha,epsilon):\n",
        "  aiuda = [programacion_evolutiva(pob,var,gens,alpha,epsilon) for _ in range(M)]\n",
        "\n",
        "\n",
        "  #Dejar solo las variables de decisión, sin su tamaño de paso. Junto con su respectiva función Ackley\n",
        "  sol_enc = 0\n",
        "  valor = 0\n",
        "  bests = []\n",
        "\n",
        "  for i in range(len(aiuda)):\n",
        "    sol_enc = aiuda[i][0][0:var]\n",
        "    valor = aiuda[i][1]\n",
        "    p = [sol_enc, valor]\n",
        "    bests.append(p)\n",
        "\n",
        "  \n",
        "  #Mejor y 'pior' solución\n",
        "  best = [] #Lista donde voy a guardar la mejor solución\n",
        "  worst = [] #Lista donde voy a guardar la peor solución\n",
        "  costes = [] #Lista donde voy a guardar los costos\n",
        "  for b in range(len(bests)): #Correr esto M veces\n",
        "    costes.append(bests[b][1]) #Meter en la lista de costes, el valor de la permutación en la posición b\n",
        "    #print(costes)\n",
        "  diccio = { i : costes[i] for i in range(0, len(costes) ) } #Diccionario de los valores\n",
        "  #print(diccio)\n",
        "  mejor_permu = min(diccio, key=diccio.get) #Obtener la llave de la permutación con menor valor\n",
        "  pior_permu = max(diccio, key=diccio.get) #Obtener la llave de la permutación con mayor valor\n",
        "  best.append(bests[mejor_permu]) #Agregar la mejor permutación con su valor\n",
        "  worst.append(bests[pior_permu]) #Agregar la pior permutación con su valor\n",
        "\n",
        "\n",
        "  #Mediana\n",
        "  elementos = [] #Lista donde se va a enumerar los números correspondiente a la longitud de M\n",
        "  mediana_permu = [] #Número o lista, dependiendo si es par o impar M\n",
        "  median = [] #Lista donde voy a guardar la o las mediana(s)\n",
        "  orden = sorted(diccio.items(), key=lambda x:x[1]) #Ordenar con respecto a los valores del diccionario\n",
        "  #print(orden)\n",
        "\n",
        "  for me in range(len(orden)): #Correr esto M veces\n",
        "    elementos.append(me) #Agregar de manera ascendente número de 0 a M\n",
        "\n",
        "  if len(elementos)%2 != 0: #Si es impar\n",
        "    per_med = np.median(np.array(elementos)) #Sacar la mediana\n",
        "    per_med = int(per_med) #Volverlo entero\n",
        "    mediana_permu = orden[per_med][0] #Obtener la llave que está en la posicón [per_med], o sea, la mediana\n",
        "    median.append(bests[mediana_permu]) #Agregar a la lista de la mediana la permutación, su valor y su peso\n",
        "  else: #Si es par\n",
        "    per_med = np.median(np.array(elementos)) #Sacar la mediana\n",
        "    per_med_izq = per_med//1 #Hacer piso. Este número va a corresponder a la mediana en la posición izquierda\n",
        "    per_med_izq = int(per_med_izq) #Convertir a entero\n",
        "    per_med_der = per_med+.5 #Sumarle .5 para que corresponda a la mediana de la posición derecha\n",
        "    per_med_der = int(per_med_der) #Volverlo entero\n",
        "    mediana_permu.append(orden[per_med_izq][0]) #Agregar a la lista la llave que está en la posicón [per_med_izq], o sea, la mediana izquierda\n",
        "    mediana_permu.append(orden[per_med_der][0]) #Hacer lo mismo pero con la mediana derecha\n",
        "    median.append(bests[mediana_permu[0]]) #Agregar a la lista de la mediana la permutación izquierda, su valor y su peso.\n",
        "    median.append(bests[mediana_permu[1]]) #Agregar a la lista de la mediana la permutación derecha, su valor y su peso.\n",
        "\n",
        "\n",
        "    #Media\n",
        "  mean_costs = [] #Lista donde voy a guardar los valores de cada permutación obtenida de las ejecuciones.\n",
        "\n",
        "  for mc in range(len(orden)): #Correr esto M veces\n",
        "    mean_costs.append(orden[mc][1]) #Agregar el valor en la posición [mc] a la lista\n",
        "\n",
        "  mean = sum(mean_costs)/len(mean_costs) #Sacar el promedio de los costos\n",
        "\n",
        "\n",
        "  #Desviación estándar\n",
        "  standard_deviation = statistics.stdev(mean_costs) #Desviacíon estándar de los costos de las M permutaciones\n",
        "  \n",
        "\n",
        "  #Comparando si en efecto solo quité los tamaños de paso, sin modificar nada más. También que mean_costs tenga el valor de cada función de Ackley\n",
        "  #return aiuda, bests, mean_costs\n",
        "\n",
        "\n",
        "  print('Mejor solución: ', best,'\\n''Peor solución: ', worst,'\\n''Mediana(s): ', median,'\\n''Media: ', mean, '\\n''Desviación estándar: ', standard_deviation)"
      ],
      "execution_count": 19,
      "outputs": []
    },
    {
      "cell_type": "markdown",
      "metadata": {
        "id": "9Vb70WUuUMps"
      },
      "source": [
        "#Con 2 variables de decisión"
      ]
    },
    {
      "cell_type": "code",
      "metadata": {
        "colab": {
          "base_uri": "https://localhost:8080/"
        },
        "id": "Q837ilFiYSP1",
        "outputId": "42bca903-d1a1-4792-d3ca-f5a62a16ac7c"
      },
      "source": [
        "ins = progra_evol(pe); ins"
      ],
      "execution_count": 20,
      "outputs": [
        {
          "output_type": "execute_result",
          "data": {
            "text/plain": [
              "(2.0, [100.0, 200.0, 2.0, 0.0001])"
            ]
          },
          "metadata": {
            "tags": []
          },
          "execution_count": 20
        }
      ]
    },
    {
      "cell_type": "code",
      "metadata": {
        "id": "5go4jUv-YU-B"
      },
      "source": [
        "n = int(ins[0])\n",
        "tam_pob = int(ins[1][0])\n",
        "gen_max = int(ins[1][1])\n",
        "alpha = ins[1][2]\n",
        "epsilon = ins[1][3]"
      ],
      "execution_count": 21,
      "outputs": []
    },
    {
      "cell_type": "code",
      "metadata": {
        "colab": {
          "base_uri": "https://localhost:8080/"
        },
        "id": "5hCuewhhJzAz",
        "outputId": "0bc82fc6-5827-4d99-9a57-4a8e30245a1a"
      },
      "source": [
        "mejor_sol_M(M,tam_pob,n,gen_max,alpha,epsilon)"
      ],
      "execution_count": 22,
      "outputs": [
        {
          "output_type": "stream",
          "text": [
            "Mejor solución:  [[array([1.17567491e-05, 1.12630382e-05]), 4.605722070794016e-05]] \n",
            "Peor solución:  [[array([-2.84124236e-06, -2.04603915e-05]), 5.843740313027368e-05]] \n",
            "Mediana(s):  [[array([-1.71585852e-05,  2.64737310e-06]), 4.911408565932973e-05]] \n",
            "Media:  5.0155240430108504e-05 \n",
            "Desviación estándar:  3.921274982704343e-06\n"
          ],
          "name": "stdout"
        }
      ]
    },
    {
      "cell_type": "markdown",
      "metadata": {
        "id": "UENNt0nwUR2a"
      },
      "source": [
        "#Con 5 variables de decisión"
      ]
    },
    {
      "cell_type": "code",
      "metadata": {
        "colab": {
          "base_uri": "https://localhost:8080/"
        },
        "id": "qyUFYmWkVEov",
        "outputId": "1dffea2e-1980-4325-9a82-6eae26fdbe85"
      },
      "source": [
        "ins = progra_evol(pe_cinco); ins"
      ],
      "execution_count": 23,
      "outputs": [
        {
          "output_type": "execute_result",
          "data": {
            "text/plain": [
              "(5.0, [100.0, 200.0, 2.0, 0.0001])"
            ]
          },
          "metadata": {
            "tags": []
          },
          "execution_count": 23
        }
      ]
    },
    {
      "cell_type": "code",
      "metadata": {
        "id": "ShV77augUT6-"
      },
      "source": [
        "n = int(ins[0])\n",
        "tam_pob = int(ins[1][0])\n",
        "gen_max = int(ins[1][1])\n",
        "alpha = ins[1][2]\n",
        "epsilon = ins[1][3]"
      ],
      "execution_count": 24,
      "outputs": []
    },
    {
      "cell_type": "code",
      "metadata": {
        "colab": {
          "base_uri": "https://localhost:8080/"
        },
        "id": "mSCQc2AXVJhO",
        "outputId": "a6f1afaf-7f13-4575-e27a-a9d7fa36199b"
      },
      "source": [
        "mejor_sol_M(M,tam_pob,n,gen_max,alpha,epsilon)"
      ],
      "execution_count": 25,
      "outputs": [
        {
          "output_type": "stream",
          "text": [
            "Mejor solución:  [[array([-1.45799925e-04,  1.25466327e-05,  1.91782882e-04, -1.90254091e-05,\n",
            "       -5.83441590e-06]), 0.00043362926909695787]] \n",
            "Peor solución:  [[array([-3.97114474, -0.99287975,  2.97861385,  0.99281309, -3.97117323]), 8.851432425101033]] \n",
            "Mediana(s):  [[array([-9.57129154e-01, -6.06447106e-05, -4.68029218e-05, -9.57224154e-01,\n",
            "        9.57188611e-01]), 2.8143503688301235]] \n",
            "Media:  3.396442508527566 \n",
            "Desviación estándar:  3.651303385890196\n"
          ],
          "name": "stdout"
        }
      ]
    },
    {
      "cell_type": "markdown",
      "metadata": {
        "id": "L8YDhGdgWKNM"
      },
      "source": [
        "#Con 10 variables de decisión"
      ]
    },
    {
      "cell_type": "code",
      "metadata": {
        "colab": {
          "base_uri": "https://localhost:8080/"
        },
        "id": "GvZpQyPHWMlB",
        "outputId": "15e723ca-5439-4c62-e3ca-cac66e8af9c9"
      },
      "source": [
        "ins = progra_evol(pe_diez); ins"
      ],
      "execution_count": 26,
      "outputs": [
        {
          "output_type": "execute_result",
          "data": {
            "text/plain": [
              "(10.0, [100.0, 200.0, 2.0, 0.0001])"
            ]
          },
          "metadata": {
            "tags": []
          },
          "execution_count": 26
        }
      ]
    },
    {
      "cell_type": "code",
      "metadata": {
        "id": "6L04iY4GWPSu"
      },
      "source": [
        "n = int(ins[0])\n",
        "tam_pob = int(ins[1][0])\n",
        "gen_max = int(ins[1][1])\n",
        "alpha = ins[1][2]\n",
        "epsilon = ins[1][3]"
      ],
      "execution_count": 27,
      "outputs": []
    },
    {
      "cell_type": "code",
      "metadata": {
        "colab": {
          "base_uri": "https://localhost:8080/"
        },
        "id": "xpH4yiKlWTCD",
        "outputId": "25100c15-7ade-45d7-8382-09a1fbdaed93"
      },
      "source": [
        "mejor_sol_M(M,tam_pob,n,gen_max,alpha,epsilon)"
      ],
      "execution_count": 28,
      "outputs": [
        {
          "output_type": "stream",
          "text": [
            "Mejor solución:  [[array([ 0.9246874 , -0.97510704,  1.00629271,  0.06696836,  0.00204834,\n",
            "       -0.07804198, -1.2297116 ,  0.05173127,  0.21387962, -1.00542955]), 3.232875485773999]] \n",
            "Peor solución:  [[array([ 3.05264259, -0.98588011, -8.9801053 , -2.98297789, -0.03244945,\n",
            "       10.04112599, -0.02027932, -2.94070299, -2.0049713 , -1.9839491 ]), 12.182372680435236]] \n",
            "Mediana(s):  [[array([-2.09502146e-02, -1.01670848e+00,  1.09353385e+01,  1.99163985e+00,\n",
            "       -1.00149020e+00,  9.65072741e-01, -1.02592073e+00,  1.15870384e-04,\n",
            "       -1.01605063e+00,  3.14100293e-02]), 10.280690280377582]] \n",
            "Media:  8.399183435230503 \n",
            "Desviación estándar:  3.677870409085784\n"
          ],
          "name": "stdout"
        }
      ]
    },
    {
      "cell_type": "markdown",
      "metadata": {
        "id": "OLuX-nSsWceS"
      },
      "source": [
        "#Con 20 variables de decisión"
      ]
    },
    {
      "cell_type": "code",
      "metadata": {
        "colab": {
          "base_uri": "https://localhost:8080/"
        },
        "id": "T_8H6E9KWlKV",
        "outputId": "df129849-55d3-479f-ca57-a928feaf09d5"
      },
      "source": [
        "ins = progra_evol(pe_veinte); ins"
      ],
      "execution_count": 29,
      "outputs": [
        {
          "output_type": "execute_result",
          "data": {
            "text/plain": [
              "(20.0, [100.0, 200.0, 2.0, 0.0001])"
            ]
          },
          "metadata": {
            "tags": []
          },
          "execution_count": 29
        }
      ]
    },
    {
      "cell_type": "code",
      "metadata": {
        "id": "a0QT2n6UWnle"
      },
      "source": [
        "n = int(ins[0])\n",
        "tam_pob = int(ins[1][0])\n",
        "gen_max = int(ins[1][1])\n",
        "alpha = ins[1][2]\n",
        "epsilon = ins[1][3]"
      ],
      "execution_count": 30,
      "outputs": []
    },
    {
      "cell_type": "code",
      "metadata": {
        "colab": {
          "base_uri": "https://localhost:8080/"
        },
        "id": "Db80WqSqWjDH",
        "outputId": "8abca04b-4dea-4888-af42-79a1e74600ed"
      },
      "source": [
        "mejor_sol_M(M,tam_pob,n,gen_max,alpha,epsilon)"
      ],
      "execution_count": 31,
      "outputs": [
        {
          "output_type": "stream",
          "text": [
            "Mejor solución:  [[array([ 1.95593605,  0.91935828,  1.25804687,  5.06229217, -0.99185022,\n",
            "       -1.01848832, -5.91490139,  1.19506518,  3.90648442, -1.09927756,\n",
            "        1.00100701, -5.02908325, -0.02345616,  6.18106786, -2.19687755,\n",
            "        0.07916808,  0.95297171,  2.97761791, -3.17069657, -0.80993635]), 9.569167039465558]] \n",
            "Peor solución:  [[array([  9.03529726,   1.97643136,  -5.00138157,  -8.01492114,\n",
            "        -3.03016736,   6.97878263,   0.03092314,  -8.02545157,\n",
            "        -9.96565795,   2.01548356,   1.94862433, -10.92321068,\n",
            "         5.00805935,  28.01868387,  -4.97868877, -11.01779578,\n",
            "        18.98123103,   2.018751  ,   6.00850291,   7.95669725]), 17.264880946151248]] \n",
            "Mediana(s):  [[array([-7.02389669, 15.02587255, -6.11705211,  5.02406297, -9.99777491,\n",
            "       -1.94107085,  4.0583174 ,  5.07673111,  0.61605231,  7.15631861,\n",
            "       -2.78603571,  1.93135174, -0.04028819, -1.82577212,  0.07649628,\n",
            "        3.89653558, -3.92525474,  6.02233731, -2.09038236, -1.04585446]), 14.027611865903669]] \n",
            "Media:  14.17157447293913 \n",
            "Desviación estándar:  2.7289942829852922\n"
          ],
          "name": "stdout"
        }
      ]
    }
  ]
}